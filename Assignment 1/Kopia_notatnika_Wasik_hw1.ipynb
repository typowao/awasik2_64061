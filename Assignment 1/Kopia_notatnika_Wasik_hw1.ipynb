{
  "nbformat": 4,
  "nbformat_minor": 0,
  "metadata": {
    "colab": {
      "provenance": []
    },
    "kernelspec": {
      "name": "python3",
      "display_name": "Python 3"
    },
    "language_info": {
      "name": "python"
    }
  },
  "cells": [
    {
      "cell_type": "markdown",
      "source": [
        "\n",
        "Aleksandra Wasik\n",
        "Assignment 1"
      ],
      "metadata": {
        "id": "bca1ZpDIsGD6"
      }
    },
    {
      "cell_type": "code",
      "execution_count": 1,
      "metadata": {
        "id": "gwk6dOM0E8Od"
      },
      "outputs": [],
      "source": [
        "# import modules for this project\n",
        "from sklearn import datasets\n",
        "from sklearn.metrics import accuracy_score\n",
        "from sklearn.model_selection import train_test_split"
      ]
    },
    {
      "cell_type": "code",
      "source": [
        "#help(KNeighborsClassifier)"
      ],
      "metadata": {
        "id": "08A9rmgQ5RQW"
      },
      "execution_count": 2,
      "outputs": []
    },
    {
      "cell_type": "markdown",
      "source": [
        "Use the following code to generate an artificial dataset which contain three classes. Conduct a similar KNN analysis to the dataset and report your accuracy."
      ],
      "metadata": {
        "id": "tws-xX2F5WH7"
      }
    },
    {
      "cell_type": "code",
      "source": [
        "from sklearn.datasets import make_blobs\n",
        "import matplotlib.pyplot as plt\n",
        "import numpy as np\n",
        "\n",
        "centers = [[2, 4], [6, 6], [1, 9]]\n",
        "n_classes = len(centers)\n",
        "data, labels = make_blobs(n_samples=150,\n",
        "                          centers=np.array(centers),\n",
        "                          random_state=1)\n",
        "# do a 80-20 split of the data\n",
        "res = train_test_split(data, labels,\n",
        "                       train_size=0.8,\n",
        "                       test_size=0.2,\n",
        "                       random_state=None)\n",
        "train_data, test_data, train_labels, test_labels = res\n",
        "# perform a KNN analysis of the simulated data\n",
        "from sklearn.neighbors import KNeighborsClassifier\n",
        "# knn, no parameters\n",
        "knn = KNeighborsClassifier()\n",
        "knn.fit(train_data, train_labels)\n",
        "print(\"Predictions from the classifier:\")\n",
        "learn_data_predicted = knn.predict(train_data)\n",
        "print(learn_data_predicted)\n",
        "print(\"Target values:\")\n",
        "print(train_labels)\n",
        "print(accuracy_score(learn_data_predicted, train_labels))\n",
        "\n",
        "# re-do KNN using some specific parameters.\n",
        "knn = KNeighborsClassifier(algorithm = 'auto',\n",
        "                            leaf_size = 30,\n",
        "                            metric = 'minkowski',\n",
        "                            p = 2,         # p=2 is equivalent to euclidian distance\n",
        "                            metric_params = None,\n",
        "                            n_jobs = None,\n",
        "                            n_neighbors = 5,\n",
        "                            weights = 'uniform')\n",
        "\n",
        "knn.fit(train_data, train_labels)\n",
        "test_data_predicted = knn.predict(test_data)\n",
        "\n",
        "# output accuracy score\n",
        "accuracy_score(test_data_predicted, test_labels)\n",
        "\n",
        "# plot your different results\n",
        "#I cannot show the different results, because the accuracy is 100%.\n",
        "#It means that the model can perfectly classify each dataset.\n",
        "#Not very common in real life\n"
      ],
      "metadata": {
        "id": "TwdApZEQwTz9",
        "colab": {
          "base_uri": "https://localhost:8080/",
          "height": 0
        },
        "outputId": "d4655ef1-6119-4871-9384-6d7e4ca4140f"
      },
      "execution_count": 7,
      "outputs": [
        {
          "output_type": "stream",
          "name": "stdout",
          "text": [
            "Predictions from the classifier:\n",
            "[1 0 1 1 0 1 1 1 2 1 2 0 2 0 2 0 2 1 0 0 2 1 0 1 2 0 0 1 0 0 0 0 0 1 0 2 0\n",
            " 1 2 1 1 1 2 0 0 1 0 1 1 0 0 0 1 1 1 2 0 0 0 0 1 0 2 2 1 2 0 1 1 2 2 1 2 0\n",
            " 2 1 2 2 2 0 2 2 1 0 1 0 2 0 1 2 2 2 0 2 1 0 0 0 0 0 1 0 2 1 2 1 2 1 2 2 1\n",
            " 2 1 2 0 1 2 2 0 2]\n",
            "Target values:\n",
            "[1 0 1 1 0 1 1 1 2 1 2 0 2 0 2 0 2 1 0 0 2 1 0 1 2 0 0 1 0 0 0 0 0 1 0 2 0\n",
            " 1 2 1 1 1 2 0 0 1 0 1 1 0 0 0 1 1 1 2 0 0 0 0 1 0 2 2 1 2 0 1 1 2 2 1 2 0\n",
            " 2 1 2 2 2 0 2 2 1 0 1 0 2 0 1 2 2 2 0 2 1 0 0 0 0 0 1 0 2 1 2 1 2 1 2 2 1\n",
            " 2 1 2 0 1 2 2 0 2]\n",
            "1.0\n"
          ]
        },
        {
          "output_type": "execute_result",
          "data": {
            "text/plain": [
              "1.0"
            ]
          },
          "metadata": {},
          "execution_count": 7
        }
      ]
    }
  ]
}