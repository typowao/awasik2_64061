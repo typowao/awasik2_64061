{
 "cells": [
  {
   "cell_type": "markdown",
   "metadata": {
    "id": "MLiBeE5SWPAJ"
   },
   "source": [
    "This is a companion notebook for the book [Deep Learning with Python, Second Edition](https://www.manning.com/books/deep-learning-with-python-second-edition?a_aid=keras&a_bid=76564dff). For readability, it only contains runnable code blocks and section titles, and omits everything else in the book: text paragraphs, figures, and pseudocode.\n",
    "\n",
    "**If you want to be able to follow what's going on, I recommend reading the notebook side by side with your copy of the book.**\n",
    "\n",
    "This notebook was generated for TensorFlow 2.6."
   ]
  },
  {
   "cell_type": "code",
   "execution_count": 4,
   "metadata": {
    "colab": {
     "base_uri": "https://localhost:8080/"
    },
    "collapsed": true,
    "id": "pXvld_ZH_KDB",
    "outputId": "4dd5c73a-93e6-4203-ddf7-c00cf6284b1d"
   },
   "outputs": [],
   "source": [
    "from tensorflow import keras\n",
    "#!pip install tensorflow[and-cuda]\n",
    "import tensorflow as tf"
   ]
  },
  {
   "cell_type": "code",
   "execution_count": 4,
   "metadata": {},
   "outputs": [
    {
     "name": "stdout",
     "output_type": "stream",
     "text": [
      "['/device:CPU:0', '/device:GPU:0']\n"
     ]
    }
   ],
   "source": [
    "from tensorflow.python.client import device_lib\n",
    "\n",
    "def get_available_devices():\n",
    "    local_device_protos = device_lib.list_local_devices()\n",
    "    return [x.name for x in local_device_protos]\n",
    "\n",
    "print(get_available_devices())\n",
    "\n",
    "# Your output is probably something like ['/device:CPU:0']\n",
    "# It should be ['/device:CPU:0', '/device:GPU:0']"
   ]
  },
  {
   "cell_type": "code",
   "execution_count": 3,
   "metadata": {},
   "outputs": [
    {
     "name": "stdout",
     "output_type": "stream",
     "text": [
      "Num GPUs Available:  1\n",
      "2.10.0\n"
     ]
    }
   ],
   "source": [
    "import tensorflow as tf\n",
    "print(\"Num GPUs Available: \", len(tf.config.list_physical_devices('GPU')))\n",
    "print(tf.__version__)\n"
   ]
  },
  {
   "cell_type": "code",
   "execution_count": 14,
   "metadata": {},
   "outputs": [
    {
     "name": "stdout",
     "output_type": "stream",
     "text": [
      "Collecting matplotlib\n",
      "  Downloading matplotlib-3.9.2-cp310-cp310-win_amd64.whl.metadata (11 kB)\n",
      "Collecting contourpy>=1.0.1 (from matplotlib)\n",
      "  Downloading contourpy-1.3.1-cp310-cp310-win_amd64.whl.metadata (5.4 kB)\n",
      "Collecting cycler>=0.10 (from matplotlib)\n",
      "  Using cached cycler-0.12.1-py3-none-any.whl.metadata (3.8 kB)\n",
      "Collecting fonttools>=4.22.0 (from matplotlib)\n",
      "  Downloading fonttools-4.55.0-cp310-cp310-win_amd64.whl.metadata (167 kB)\n",
      "Collecting kiwisolver>=1.3.1 (from matplotlib)\n",
      "  Downloading kiwisolver-1.4.7-cp310-cp310-win_amd64.whl.metadata (6.4 kB)\n",
      "Requirement already satisfied: numpy>=1.23 in c:\\users\\ola\\anaconda3\\envs\\env-tensorflow10\\lib\\site-packages (from matplotlib) (1.26.4)\n",
      "Requirement already satisfied: packaging>=20.0 in c:\\users\\ola\\anaconda3\\envs\\env-tensorflow10\\lib\\site-packages (from matplotlib) (24.2)\n",
      "Collecting pillow>=8 (from matplotlib)\n",
      "  Downloading pillow-11.0.0-cp310-cp310-win_amd64.whl.metadata (9.3 kB)\n",
      "Collecting pyparsing>=2.3.1 (from matplotlib)\n",
      "  Using cached pyparsing-3.2.0-py3-none-any.whl.metadata (5.0 kB)\n",
      "Requirement already satisfied: python-dateutil>=2.7 in c:\\users\\ola\\anaconda3\\envs\\env-tensorflow10\\lib\\site-packages (from matplotlib) (2.9.0)\n",
      "Requirement already satisfied: six>=1.5 in c:\\users\\ola\\anaconda3\\envs\\env-tensorflow10\\lib\\site-packages (from python-dateutil>=2.7->matplotlib) (1.16.0)\n",
      "Downloading matplotlib-3.9.2-cp310-cp310-win_amd64.whl (7.8 MB)\n",
      "   ---------------------------------------- 0.0/7.8 MB ? eta -:--:--\n",
      "   -- ------------------------------------- 0.5/7.8 MB 3.4 MB/s eta 0:00:03\n",
      "   ----- ---------------------------------- 1.0/7.8 MB 2.5 MB/s eta 0:00:03\n",
      "   ------ --------------------------------- 1.3/7.8 MB 2.3 MB/s eta 0:00:03\n",
      "   --------- ------------------------------ 1.8/7.8 MB 2.4 MB/s eta 0:00:03\n",
      "   ------------ --------------------------- 2.4/7.8 MB 2.4 MB/s eta 0:00:03\n",
      "   -------------- ------------------------- 2.9/7.8 MB 2.3 MB/s eta 0:00:03\n",
      "   ---------------- ----------------------- 3.1/7.8 MB 2.3 MB/s eta 0:00:03\n",
      "   ------------------ --------------------- 3.7/7.8 MB 2.2 MB/s eta 0:00:02\n",
      "   --------------------- ------------------ 4.2/7.8 MB 2.2 MB/s eta 0:00:02\n",
      "   ------------------------ --------------- 4.7/7.8 MB 2.3 MB/s eta 0:00:02\n",
      "   -------------------------- ------------- 5.2/7.8 MB 2.3 MB/s eta 0:00:02\n",
      "   ---------------------------- ----------- 5.5/7.8 MB 2.2 MB/s eta 0:00:02\n",
      "   ----------------------------- ---------- 5.8/7.8 MB 2.2 MB/s eta 0:00:01\n",
      "   -------------------------------- ------- 6.3/7.8 MB 2.2 MB/s eta 0:00:01\n",
      "   ---------------------------------- ----- 6.8/7.8 MB 2.2 MB/s eta 0:00:01\n",
      "   ------------------------------------- -- 7.3/7.8 MB 2.2 MB/s eta 0:00:01\n",
      "   ---------------------------------------- 7.8/7.8 MB 2.2 MB/s eta 0:00:00\n",
      "Downloading contourpy-1.3.1-cp310-cp310-win_amd64.whl (218 kB)\n",
      "Using cached cycler-0.12.1-py3-none-any.whl (8.3 kB)\n",
      "Downloading fonttools-4.55.0-cp310-cp310-win_amd64.whl (2.2 MB)\n",
      "   ---------------------------------------- 0.0/2.2 MB ? eta -:--:--\n",
      "   ---- ----------------------------------- 0.3/2.2 MB ? eta -:--:--\n",
      "   -------------- ------------------------- 0.8/2.2 MB 2.4 MB/s eta 0:00:01\n",
      "   ----------------------- ---------------- 1.3/2.2 MB 2.3 MB/s eta 0:00:01\n",
      "   ---------------------------- ----------- 1.6/2.2 MB 2.3 MB/s eta 0:00:01\n",
      "   ---------------------------------------- 2.2/2.2 MB 2.2 MB/s eta 0:00:00\n",
      "Downloading kiwisolver-1.4.7-cp310-cp310-win_amd64.whl (55 kB)\n",
      "Downloading pillow-11.0.0-cp310-cp310-win_amd64.whl (2.6 MB)\n",
      "   ---------------------------------------- 0.0/2.6 MB ? eta -:--:--\n",
      "   -------- ------------------------------- 0.5/2.6 MB 2.4 MB/s eta 0:00:01\n",
      "   ---------------- ----------------------- 1.0/2.6 MB 2.5 MB/s eta 0:00:01\n",
      "   ------------------------ --------------- 1.6/2.6 MB 2.7 MB/s eta 0:00:01\n",
      "   -------------------------------- ------- 2.1/2.6 MB 2.7 MB/s eta 0:00:01\n",
      "   ---------------------------------------- 2.6/2.6 MB 2.6 MB/s eta 0:00:00\n",
      "Using cached pyparsing-3.2.0-py3-none-any.whl (106 kB)\n",
      "Installing collected packages: pyparsing, pillow, kiwisolver, fonttools, cycler, contourpy, matplotlib\n",
      "Successfully installed contourpy-1.3.1 cycler-0.12.1 fonttools-4.55.0 kiwisolver-1.4.7 matplotlib-3.9.2 pillow-11.0.0 pyparsing-3.2.0\n"
     ]
    }
   ],
   "source": [
    "!pip install matplotlib\n"
   ]
  },
  {
   "cell_type": "markdown",
   "metadata": {
    "id": "hqUrqm44WPAM"
   },
   "source": [
    "# Introduction to deep learning for computer vision"
   ]
  },
  {
   "cell_type": "markdown",
   "metadata": {
    "id": "Sjo0vCiRWPAT"
   },
   "source": [
    "### Downloading the data"
   ]
  },
  {
   "cell_type": "markdown",
   "metadata": {
    "id": "558RUzYvWPAV"
   },
   "source": [
    "**Reading in training, validation, test datasets**"
   ]
  },
  {
   "cell_type": "code",
   "execution_count": 5,
   "metadata": {},
   "outputs": [
    {
     "name": "stdout",
     "output_type": "stream",
     "text": [
      "Collecting opendatasets\n",
      "  Downloading opendatasets-0.1.22-py3-none-any.whl.metadata (9.2 kB)\n",
      "Collecting tqdm (from opendatasets)\n",
      "  Downloading tqdm-4.67.0-py3-none-any.whl.metadata (57 kB)\n",
      "Collecting kaggle (from opendatasets)\n",
      "  Downloading kaggle-1.6.17.tar.gz (82 kB)\n",
      "  Preparing metadata (setup.py): started\n",
      "  Preparing metadata (setup.py): finished with status 'done'\n",
      "Collecting click (from opendatasets)\n",
      "  Downloading click-8.1.7-py3-none-any.whl.metadata (3.0 kB)\n",
      "Requirement already satisfied: colorama in c:\\users\\ola\\anaconda3\\envs\\env-tensorflow\\lib\\site-packages (from click->opendatasets) (0.4.6)\n",
      "Requirement already satisfied: six>=1.10 in c:\\users\\ola\\anaconda3\\envs\\env-tensorflow\\lib\\site-packages (from kaggle->opendatasets) (1.16.0)\n",
      "Requirement already satisfied: certifi>=2023.7.22 in c:\\users\\ola\\anaconda3\\envs\\env-tensorflow\\lib\\site-packages (from kaggle->opendatasets) (2024.8.30)\n",
      "Requirement already satisfied: python-dateutil in c:\\users\\ola\\anaconda3\\envs\\env-tensorflow\\lib\\site-packages (from kaggle->opendatasets) (2.9.0)\n",
      "Requirement already satisfied: requests in c:\\users\\ola\\anaconda3\\envs\\env-tensorflow\\lib\\site-packages (from kaggle->opendatasets) (2.32.3)\n",
      "Collecting python-slugify (from kaggle->opendatasets)\n",
      "  Downloading python_slugify-8.0.4-py2.py3-none-any.whl.metadata (8.5 kB)\n",
      "Requirement already satisfied: urllib3 in c:\\users\\ola\\anaconda3\\envs\\env-tensorflow\\lib\\site-packages (from kaggle->opendatasets) (2.2.3)\n",
      "Collecting bleach (from kaggle->opendatasets)\n",
      "  Downloading bleach-6.2.0-py3-none-any.whl.metadata (30 kB)\n",
      "Collecting webencodings (from bleach->kaggle->opendatasets)\n",
      "  Downloading webencodings-0.5.1-py2.py3-none-any.whl.metadata (2.1 kB)\n",
      "Collecting text-unidecode>=1.3 (from python-slugify->kaggle->opendatasets)\n",
      "  Downloading text_unidecode-1.3-py2.py3-none-any.whl.metadata (2.4 kB)\n",
      "Requirement already satisfied: charset-normalizer<4,>=2 in c:\\users\\ola\\anaconda3\\envs\\env-tensorflow\\lib\\site-packages (from requests->kaggle->opendatasets) (3.4.0)\n",
      "Requirement already satisfied: idna<4,>=2.5 in c:\\users\\ola\\anaconda3\\envs\\env-tensorflow\\lib\\site-packages (from requests->kaggle->opendatasets) (3.10)\n",
      "Downloading opendatasets-0.1.22-py3-none-any.whl (15 kB)\n",
      "Downloading click-8.1.7-py3-none-any.whl (97 kB)\n",
      "Downloading tqdm-4.67.0-py3-none-any.whl (78 kB)\n",
      "Downloading bleach-6.2.0-py3-none-any.whl (163 kB)\n",
      "Downloading python_slugify-8.0.4-py2.py3-none-any.whl (10 kB)\n",
      "Downloading text_unidecode-1.3-py2.py3-none-any.whl (78 kB)\n",
      "Downloading webencodings-0.5.1-py2.py3-none-any.whl (11 kB)\n",
      "Building wheels for collected packages: kaggle\n",
      "  Building wheel for kaggle (setup.py): started\n",
      "  Building wheel for kaggle (setup.py): finished with status 'done'\n",
      "  Created wheel for kaggle: filename=kaggle-1.6.17-py3-none-any.whl size=105797 sha256=f7b0c3fe872283a6f1692b459ec3bb909aa2f7ceb455672f36c11a450cc59958\n",
      "  Stored in directory: c:\\users\\ola\\appdata\\local\\pip\\cache\\wheels\\ff\\55\\fb\\b27a466be754d2a06ffe0e37b248d844f090a63b51becea85d\n",
      "Successfully built kaggle\n",
      "Installing collected packages: webencodings, text-unidecode, tqdm, python-slugify, click, bleach, kaggle, opendatasets\n",
      "Successfully installed bleach-6.2.0 click-8.1.7 kaggle-1.6.17 opendatasets-0.1.22 python-slugify-8.0.4 text-unidecode-1.3 tqdm-4.67.0 webencodings-0.5.1\n",
      "Collecting pandas\n",
      "  Downloading pandas-2.2.3-cp311-cp311-win_amd64.whl.metadata (19 kB)\n",
      "Requirement already satisfied: numpy>=1.23.2 in c:\\users\\ola\\anaconda3\\envs\\env-tensorflow\\lib\\site-packages (from pandas) (1.24.3)\n",
      "Requirement already satisfied: python-dateutil>=2.8.2 in c:\\users\\ola\\anaconda3\\envs\\env-tensorflow\\lib\\site-packages (from pandas) (2.9.0)\n",
      "Collecting pytz>=2020.1 (from pandas)\n",
      "  Downloading pytz-2024.2-py2.py3-none-any.whl.metadata (22 kB)\n",
      "Collecting tzdata>=2022.7 (from pandas)\n",
      "  Downloading tzdata-2024.2-py2.py3-none-any.whl.metadata (1.4 kB)\n",
      "Requirement already satisfied: six>=1.5 in c:\\users\\ola\\anaconda3\\envs\\env-tensorflow\\lib\\site-packages (from python-dateutil>=2.8.2->pandas) (1.16.0)\n",
      "Downloading pandas-2.2.3-cp311-cp311-win_amd64.whl (11.6 MB)\n",
      "   ---------------------------------------- 0.0/11.6 MB ? eta -:--:--\n",
      "   - -------------------------------------- 0.5/11.6 MB 2.8 MB/s eta 0:00:04\n",
      "   --- ------------------------------------ 1.0/11.6 MB 2.8 MB/s eta 0:00:04\n",
      "   -------- ------------------------------- 2.4/11.6 MB 4.2 MB/s eta 0:00:03\n",
      "   ------------ --------------------------- 3.7/11.6 MB 4.5 MB/s eta 0:00:02\n",
      "   ----------------- ---------------------- 5.0/11.6 MB 4.9 MB/s eta 0:00:02\n",
      "   -------------------- ------------------- 6.0/11.6 MB 5.1 MB/s eta 0:00:02\n",
      "   ----------------------- ---------------- 6.8/11.6 MB 4.8 MB/s eta 0:00:01\n",
      "   --------------------------- ------------ 7.9/11.6 MB 4.8 MB/s eta 0:00:01\n",
      "   ------------------------------ --------- 8.9/11.6 MB 4.9 MB/s eta 0:00:01\n",
      "   ---------------------------------- ----- 10.0/11.6 MB 4.9 MB/s eta 0:00:01\n",
      "   -------------------------------------- - 11.3/11.6 MB 5.0 MB/s eta 0:00:01\n",
      "   ---------------------------------------- 11.6/11.6 MB 4.9 MB/s eta 0:00:00\n",
      "Downloading pytz-2024.2-py2.py3-none-any.whl (508 kB)\n",
      "Downloading tzdata-2024.2-py2.py3-none-any.whl (346 kB)\n",
      "Installing collected packages: pytz, tzdata, pandas\n",
      "Successfully installed pandas-2.2.3 pytz-2024.2 tzdata-2024.2\n"
     ]
    }
   ],
   "source": [
    "!pip install opendatasets\n",
    "!pip install pandas"
   ]
  },
  {
   "cell_type": "code",
   "execution_count": 1,
   "metadata": {},
   "outputs": [
    {
     "name": "stdout",
     "output_type": "stream",
     "text": [
      "Downloading dogs-vs-cats.zip to .\\dogs-vs-cats\n"
     ]
    },
    {
     "name": "stderr",
     "output_type": "stream",
     "text": [
      "100%|██████████| 812M/812M [03:55<00:00, 3.62MB/s] \n"
     ]
    },
    {
     "name": "stdout",
     "output_type": "stream",
     "text": [
      "\n",
      "Extracting archive .\\dogs-vs-cats/dogs-vs-cats.zip to .\\dogs-vs-cats\n"
     ]
    }
   ],
   "source": [
    "import opendatasets as od \n",
    "import pandas \n",
    "\n",
    "od.download( \n",
    "\t\"https://www.kaggle.com/c/dogs-vs-cats\") \n"
   ]
  },
  {
   "cell_type": "code",
   "execution_count": 7,
   "metadata": {
    "colab": {
     "base_uri": "https://localhost:8080/",
     "height": 165
    },
    "id": "JjLcRaoWw5XE",
    "outputId": "c6a4e492-aeab-46d6-801f-ae799a3395a4"
   },
   "outputs": [],
   "source": [
    "#from google.colab import files\n",
    "#files.upload()\n",
    "\n",
    "# !mkdir ~/.kaggle\n",
    "# !cp kaggle.json ~/.kaggle/\n",
    "# !chmod 600 ~/.kaggle/kaggle.json\n",
    "\n",
    "# !kaggle competitions download -c dogs-vs-cats"
   ]
  },
  {
   "cell_type": "code",
   "execution_count": 8,
   "metadata": {
    "id": "r4IoXrZTKrmf"
   },
   "outputs": [
    {
     "name": "stderr",
     "output_type": "stream",
     "text": [
      "'unzip' is not recognized as an internal or external command,\n",
      "operable program or batch file.\n"
     ]
    }
   ],
   "source": [
    "import zipfile\n",
    "!unzip -qq dogs-vs-cats.zip"
   ]
  },
  {
   "cell_type": "code",
   "execution_count": 9,
   "metadata": {
    "id": "nBHu3c7_Krjf"
   },
   "outputs": [
    {
     "name": "stderr",
     "output_type": "stream",
     "text": [
      "'unzip' is not recognized as an internal or external command,\n",
      "operable program or batch file.\n"
     ]
    }
   ],
   "source": [
    "!unzip -qq train.zip"
   ]
  },
  {
   "cell_type": "code",
   "execution_count": 12,
   "metadata": {
    "id": "5YO4KJKxKrgr"
   },
   "outputs": [],
   "source": [
    "import os, shutil, pathlib\n",
    "original_dir = pathlib.Path(\"train\")\n",
    "new_base_dir = pathlib.Path(\"dogs_vs_cats_small500\")\n",
    "def make_subset(subset_name, start_index, end_index):\n",
    "    for category in (\"cat\", \"dog\"):\n",
    "        dir = new_base_dir / subset_name / category\n",
    "        os.makedirs(dir)\n",
    "        fnames = [f\"{category}.{i}.jpg\"\n",
    "                  for i in range(start_index, end_index)]\n",
    "        for fname in fnames:\n",
    "            shutil.copyfile(src=original_dir / fname,\n",
    "                            dst=dir / fname)\n",
    "make_subset(\"train_dataset\", start_index=0, end_index=500)\n",
    "make_subset(\"validation_dataset\", start_index=500, end_index=750)\n",
    "make_subset(\"test_dataset\", start_index=750, end_index=1000)"
   ]
  },
  {
   "cell_type": "code",
   "execution_count": 1,
   "metadata": {},
   "outputs": [],
   "source": [
    "import os, shutil, pathlib\n",
    "new_base_dir = pathlib.Path(\"dogs_vs_cats_small1000\")\n"
   ]
  },
  {
   "cell_type": "markdown",
   "metadata": {
    "id": "Voh1ajuBWPAX"
   },
   "source": [
    "### Data preprocessing"
   ]
  },
  {
   "cell_type": "markdown",
   "metadata": {
    "id": "C8Q6bjTMWPAX"
   },
   "source": [
    "**Using `image_dataset_from_directory` to read images**"
   ]
  },
  {
   "cell_type": "code",
   "execution_count": 2,
   "metadata": {
    "colab": {
     "base_uri": "https://localhost:8080/"
    },
    "id": "84sq0ksbWPAY",
    "outputId": "65260f6b-869f-48ec-ccc1-d3781ea74bc3"
   },
   "outputs": [
    {
     "name": "stdout",
     "output_type": "stream",
     "text": [
      "Found 2000 files belonging to 2 classes.\n",
      "Found 500 files belonging to 2 classes.\n",
      "Found 500 files belonging to 2 classes.\n"
     ]
    }
   ],
   "source": [
    "from tensorflow.keras.utils import image_dataset_from_directory\n",
    "\n",
    "train_dataset = image_dataset_from_directory(\n",
    "    new_base_dir / \"train_dataset\",\n",
    "    image_size=(180, 180),\n",
    "    batch_size=32)\n",
    "validation_dataset = image_dataset_from_directory(\n",
    "    new_base_dir / \"validation_dataset\",\n",
    "    image_size=(180, 180),\n",
    "    batch_size=32)\n",
    "test_dataset = image_dataset_from_directory(\n",
    "    new_base_dir / \"test_dataset\",\n",
    "    image_size=(180, 180),\n",
    "    batch_size=32)\n"
   ]
  },
  {
   "cell_type": "markdown",
   "metadata": {
    "id": "L2xj8ln00BvL"
   },
   "source": [
    "Note the difference in the number of files for the testing dataset."
   ]
  },
  {
   "cell_type": "markdown",
   "metadata": {
    "id": "c-BrK7WwWPAZ"
   },
   "source": [
    "**Displaying the shapes of the data and labels yielded by the `Dataset`**"
   ]
  },
  {
   "cell_type": "markdown",
   "metadata": {
    "id": "TX3RPlAmWPAd"
   },
   "source": [
    "## Leveraging a pretrained model"
   ]
  },
  {
   "cell_type": "markdown",
   "metadata": {
    "id": "m7Ukt3CqWPAd"
   },
   "source": [
    "### Feature extraction with a pretrained model"
   ]
  },
  {
   "cell_type": "markdown",
   "metadata": {
    "id": "w94CEGhzWPAd"
   },
   "source": [
    "**Instantiating the VGG16 convolutional base**"
   ]
  },
  {
   "cell_type": "code",
   "execution_count": 5,
   "metadata": {
    "colab": {
     "base_uri": "https://localhost:8080/",
     "height": 201
    },
    "id": "SYqVSlhHWPAe",
    "outputId": "4a6948f0-5d47-4f67-c8f9-4fe59cbc5a02"
   },
   "outputs": [],
   "source": [
    "conv_base = keras.applications.vgg16.VGG16(\n",
    "    weights=\"imagenet\",\n",
    "    include_top=False,\n",
    "    input_shape=(180, 180, 3))"
   ]
  },
  {
   "cell_type": "code",
   "execution_count": 6,
   "metadata": {
    "id": "g95D2AsFWPAe"
   },
   "outputs": [
    {
     "name": "stdout",
     "output_type": "stream",
     "text": [
      "Model: \"vgg16\"\n",
      "_________________________________________________________________\n",
      " Layer (type)                Output Shape              Param #   \n",
      "=================================================================\n",
      " input_1 (InputLayer)        [(None, 180, 180, 3)]     0         \n",
      "                                                                 \n",
      " block1_conv1 (Conv2D)       (None, 180, 180, 64)      1792      \n",
      "                                                                 \n",
      " block1_conv2 (Conv2D)       (None, 180, 180, 64)      36928     \n",
      "                                                                 \n",
      " block1_pool (MaxPooling2D)  (None, 90, 90, 64)        0         \n",
      "                                                                 \n",
      " block2_conv1 (Conv2D)       (None, 90, 90, 128)       73856     \n",
      "                                                                 \n",
      " block2_conv2 (Conv2D)       (None, 90, 90, 128)       147584    \n",
      "                                                                 \n",
      " block2_pool (MaxPooling2D)  (None, 45, 45, 128)       0         \n",
      "                                                                 \n",
      " block3_conv1 (Conv2D)       (None, 45, 45, 256)       295168    \n",
      "                                                                 \n",
      " block3_conv2 (Conv2D)       (None, 45, 45, 256)       590080    \n",
      "                                                                 \n",
      " block3_conv3 (Conv2D)       (None, 45, 45, 256)       590080    \n",
      "                                                                 \n",
      " block3_pool (MaxPooling2D)  (None, 22, 22, 256)       0         \n",
      "                                                                 \n",
      " block4_conv1 (Conv2D)       (None, 22, 22, 512)       1180160   \n",
      "                                                                 \n",
      " block4_conv2 (Conv2D)       (None, 22, 22, 512)       2359808   \n",
      "                                                                 \n",
      " block4_conv3 (Conv2D)       (None, 22, 22, 512)       2359808   \n",
      "                                                                 \n",
      " block4_pool (MaxPooling2D)  (None, 11, 11, 512)       0         \n",
      "                                                                 \n",
      " block5_conv1 (Conv2D)       (None, 11, 11, 512)       2359808   \n",
      "                                                                 \n",
      " block5_conv2 (Conv2D)       (None, 11, 11, 512)       2359808   \n",
      "                                                                 \n",
      " block5_conv3 (Conv2D)       (None, 11, 11, 512)       2359808   \n",
      "                                                                 \n",
      " block5_pool (MaxPooling2D)  (None, 5, 5, 512)         0         \n",
      "                                                                 \n",
      "=================================================================\n",
      "Total params: 14,714,688\n",
      "Trainable params: 14,714,688\n",
      "Non-trainable params: 0\n",
      "_________________________________________________________________\n"
     ]
    }
   ],
   "source": [
    "conv_base.summary()"
   ]
  },
  {
   "cell_type": "markdown",
   "metadata": {
    "id": "JrzXmkZwWPAe"
   },
   "source": [
    "#### Fast feature extraction without data augmentation"
   ]
  },
  {
   "cell_type": "markdown",
   "metadata": {
    "id": "HOv5pmQIWPAe"
   },
   "source": [
    "**Extracting the VGG16 features and corresponding labels**"
   ]
  },
  {
   "cell_type": "code",
   "execution_count": 10,
   "metadata": {
    "id": "NnIQtrJ8WPAe"
   },
   "outputs": [
    {
     "name": "stdout",
     "output_type": "stream",
     "text": [
      "1/1 [==============================] - 6s 6s/step\n",
      "1/1 [==============================] - 0s 21ms/step\n",
      "1/1 [==============================] - 0s 20ms/step\n",
      "1/1 [==============================] - 0s 21ms/step\n",
      "1/1 [==============================] - 0s 20ms/step\n",
      "1/1 [==============================] - 0s 21ms/step\n",
      "1/1 [==============================] - 0s 22ms/step\n",
      "1/1 [==============================] - 0s 20ms/step\n",
      "1/1 [==============================] - 0s 20ms/step\n",
      "1/1 [==============================] - 0s 22ms/step\n",
      "1/1 [==============================] - 0s 21ms/step\n",
      "1/1 [==============================] - 0s 21ms/step\n",
      "1/1 [==============================] - 0s 21ms/step\n",
      "1/1 [==============================] - 0s 21ms/step\n",
      "1/1 [==============================] - 0s 19ms/step\n",
      "1/1 [==============================] - 0s 20ms/step\n",
      "1/1 [==============================] - 0s 21ms/step\n",
      "1/1 [==============================] - 0s 21ms/step\n",
      "1/1 [==============================] - 0s 21ms/step\n",
      "1/1 [==============================] - 0s 21ms/step\n",
      "1/1 [==============================] - 0s 21ms/step\n",
      "1/1 [==============================] - 0s 20ms/step\n",
      "1/1 [==============================] - 0s 21ms/step\n",
      "1/1 [==============================] - 0s 20ms/step\n",
      "1/1 [==============================] - 0s 20ms/step\n",
      "1/1 [==============================] - 0s 19ms/step\n",
      "1/1 [==============================] - 0s 19ms/step\n",
      "1/1 [==============================] - 0s 20ms/step\n",
      "1/1 [==============================] - 0s 22ms/step\n",
      "1/1 [==============================] - 0s 20ms/step\n",
      "1/1 [==============================] - 0s 22ms/step\n",
      "1/1 [==============================] - 1s 1s/step\n",
      "1/1 [==============================] - 0s 20ms/step\n",
      "1/1 [==============================] - 0s 21ms/step\n",
      "1/1 [==============================] - 0s 21ms/step\n",
      "1/1 [==============================] - 0s 22ms/step\n",
      "1/1 [==============================] - 0s 21ms/step\n",
      "1/1 [==============================] - 0s 20ms/step\n",
      "1/1 [==============================] - 0s 22ms/step\n",
      "1/1 [==============================] - 0s 21ms/step\n",
      "1/1 [==============================] - 0s 23ms/step\n",
      "1/1 [==============================] - 0s 22ms/step\n",
      "1/1 [==============================] - 0s 23ms/step\n",
      "1/1 [==============================] - 0s 22ms/step\n",
      "1/1 [==============================] - 0s 21ms/step\n",
      "1/1 [==============================] - 0s 23ms/step\n",
      "1/1 [==============================] - 0s 22ms/step\n",
      "1/1 [==============================] - 2s 2s/step\n",
      "1/1 [==============================] - 0s 27ms/step\n",
      "1/1 [==============================] - 0s 25ms/step\n",
      "1/1 [==============================] - 0s 22ms/step\n",
      "1/1 [==============================] - 0s 23ms/step\n",
      "1/1 [==============================] - 0s 26ms/step\n",
      "1/1 [==============================] - 0s 25ms/step\n",
      "1/1 [==============================] - 0s 26ms/step\n",
      "1/1 [==============================] - 0s 26ms/step\n",
      "1/1 [==============================] - 0s 25ms/step\n",
      "1/1 [==============================] - 0s 25ms/step\n",
      "1/1 [==============================] - 0s 23ms/step\n",
      "1/1 [==============================] - 0s 23ms/step\n",
      "1/1 [==============================] - 0s 23ms/step\n",
      "1/1 [==============================] - 0s 24ms/step\n",
      "1/1 [==============================] - 0s 24ms/step\n",
      "1/1 [==============================] - 0s 24ms/step\n"
     ]
    }
   ],
   "source": [
    "import numpy as np\n",
    "\n",
    "def get_features_and_labels(dataset):\n",
    "    all_features = []\n",
    "    all_labels = []\n",
    "    for images, labels in dataset:\n",
    "        preprocessed_images = keras.applications.vgg16.preprocess_input(images)\n",
    "        features = conv_base.predict(preprocessed_images)\n",
    "        all_features.append(features)\n",
    "        all_labels.append(labels)\n",
    "    return np.concatenate(all_features), np.concatenate(all_labels)\n",
    "\n",
    "train_features, train_labels =  get_features_and_labels(train_dataset)\n",
    "val_features, val_labels =  get_features_and_labels(validation_dataset)\n",
    "test_features, test_labels =  get_features_and_labels(test_dataset)"
   ]
  },
  {
   "cell_type": "code",
   "execution_count": 11,
   "metadata": {
    "id": "ZBwhk4bpWPAf"
   },
   "outputs": [
    {
     "data": {
      "text/plain": [
       "(1000, 5, 5, 512)"
      ]
     },
     "execution_count": 11,
     "metadata": {},
     "output_type": "execute_result"
    }
   ],
   "source": [
    "train_features.shape"
   ]
  },
  {
   "cell_type": "markdown",
   "metadata": {
    "id": "Titj-MAwWPAf"
   },
   "source": [
    "**Defining and training the densely connected classifier**"
   ]
  },
  {
   "cell_type": "code",
   "execution_count": 12,
   "metadata": {
    "id": "UOHON9WhWPAg"
   },
   "outputs": [
    {
     "name": "stdout",
     "output_type": "stream",
     "text": [
      "Epoch 1/20\n",
      "32/32 [==============================] - 1s 15ms/step - loss: 18.0143 - accuracy: 0.9170 - val_loss: 5.9073 - val_accuracy: 0.9540\n",
      "Epoch 2/20\n",
      "32/32 [==============================] - 0s 5ms/step - loss: 3.0861 - accuracy: 0.9760 - val_loss: 7.0373 - val_accuracy: 0.9520\n",
      "Epoch 3/20\n",
      "32/32 [==============================] - 0s 5ms/step - loss: 0.9827 - accuracy: 0.9860 - val_loss: 18.4221 - val_accuracy: 0.9300\n",
      "Epoch 4/20\n",
      "32/32 [==============================] - 0s 5ms/step - loss: 2.6491 - accuracy: 0.9850 - val_loss: 7.4701 - val_accuracy: 0.9560\n",
      "Epoch 5/20\n",
      "32/32 [==============================] - 0s 5ms/step - loss: 1.6144 - accuracy: 0.9890 - val_loss: 9.3456 - val_accuracy: 0.9520\n",
      "Epoch 6/20\n",
      "32/32 [==============================] - 0s 5ms/step - loss: 0.1919 - accuracy: 0.9980 - val_loss: 8.2908 - val_accuracy: 0.9540\n",
      "Epoch 7/20\n",
      "32/32 [==============================] - 0s 5ms/step - loss: 0.0498 - accuracy: 0.9980 - val_loss: 9.7949 - val_accuracy: 0.9560\n",
      "Epoch 8/20\n",
      "32/32 [==============================] - 0s 5ms/step - loss: 1.5998 - accuracy: 0.9900 - val_loss: 10.5529 - val_accuracy: 0.9540\n",
      "Epoch 9/20\n",
      "32/32 [==============================] - 0s 5ms/step - loss: 0.0063 - accuracy: 0.9990 - val_loss: 17.3769 - val_accuracy: 0.9400\n",
      "Epoch 10/20\n",
      "32/32 [==============================] - 0s 5ms/step - loss: 0.3515 - accuracy: 0.9950 - val_loss: 11.0115 - val_accuracy: 0.9540\n",
      "Epoch 11/20\n",
      "32/32 [==============================] - 0s 5ms/step - loss: 0.2614 - accuracy: 0.9970 - val_loss: 10.5321 - val_accuracy: 0.9540\n",
      "Epoch 12/20\n",
      "32/32 [==============================] - 0s 5ms/step - loss: 0.0451 - accuracy: 0.9990 - val_loss: 25.1006 - val_accuracy: 0.9200\n",
      "Epoch 13/20\n",
      "32/32 [==============================] - 0s 5ms/step - loss: 2.9154e-04 - accuracy: 1.0000 - val_loss: 10.1547 - val_accuracy: 0.9600\n",
      "Epoch 14/20\n",
      "32/32 [==============================] - 0s 5ms/step - loss: 0.4297 - accuracy: 0.9980 - val_loss: 10.6800 - val_accuracy: 0.9520\n",
      "Epoch 15/20\n",
      "32/32 [==============================] - 0s 5ms/step - loss: 7.3872e-09 - accuracy: 1.0000 - val_loss: 11.0823 - val_accuracy: 0.9560\n",
      "Epoch 16/20\n",
      "32/32 [==============================] - 0s 5ms/step - loss: 0.0168 - accuracy: 0.9990 - val_loss: 22.4836 - val_accuracy: 0.9400\n",
      "Epoch 17/20\n",
      "32/32 [==============================] - 0s 6ms/step - loss: 0.0547 - accuracy: 0.9970 - val_loss: 10.9563 - val_accuracy: 0.9620\n",
      "Epoch 18/20\n",
      "32/32 [==============================] - 0s 6ms/step - loss: 2.8381e-33 - accuracy: 1.0000 - val_loss: 10.9563 - val_accuracy: 0.9620\n",
      "Epoch 19/20\n",
      "32/32 [==============================] - 0s 5ms/step - loss: 1.0513e-19 - accuracy: 1.0000 - val_loss: 10.9563 - val_accuracy: 0.9620\n",
      "Epoch 20/20\n",
      "32/32 [==============================] - 0s 5ms/step - loss: 0.1652 - accuracy: 0.9980 - val_loss: 8.7060 - val_accuracy: 0.9560\n"
     ]
    }
   ],
   "source": [
    "from tensorflow.keras import layers\n",
    "from tensorflow import keras\n",
    "\n",
    "inputs = keras.Input(shape=(5, 5, 512))\n",
    "x = layers.Flatten()(inputs)\n",
    "x = layers.Dense(256)(x)\n",
    "x = layers.Dropout(0.5)(x)\n",
    "outputs = layers.Dense(1, activation=\"sigmoid\")(x)\n",
    "model = keras.Model(inputs, outputs)\n",
    "model.compile(loss=\"binary_crossentropy\",\n",
    "              optimizer=\"rmsprop\",\n",
    "              metrics=[\"accuracy\"])\n",
    "\n",
    "callbacks = [\n",
    "    keras.callbacks.ModelCheckpoint(\n",
    "      filepath=\"feature_extraction.h5\",\n",
    "      save_best_only=True,\n",
    "      monitor=\"val_loss\")\n",
    "]\n",
    "history = model.fit(\n",
    "    train_features, train_labels,\n",
    "    epochs=20,\n",
    "    validation_data=(val_features, val_labels),\n",
    "    callbacks=callbacks)"
   ]
  },
  {
   "cell_type": "markdown",
   "metadata": {
    "id": "BRE9dSqgWPAh"
   },
   "source": [
    "**Plotting the results**"
   ]
  },
  {
   "cell_type": "code",
   "execution_count": 15,
   "metadata": {
    "id": "J4-Ohx8xWPAh"
   },
   "outputs": [
    {
     "data": {
      "image/png": "[encoded data removed]",
      "text/plain": [
       "<Figure size 640x480 with 1 Axes>"
      ]
     },
     "metadata": {},
     "output_type": "display_data"
    },
    {
     "data": {
      "image/png": "[encoded data removed]",
      "text/plain": [
       "<Figure size 640x480 with 1 Axes>"
      ]
     },
     "metadata": {},
     "output_type": "display_data"
    }
   ],
   "source": [
    "import matplotlib.pyplot as plt\n",
    "acc = history.history[\"accuracy\"]\n",
    "val_acc = history.history[\"val_accuracy\"]\n",
    "loss = history.history[\"loss\"]\n",
    "val_loss = history.history[\"val_loss\"]\n",
    "epochs = range(1, len(acc) + 1)\n",
    "plt.plot(epochs, acc, \"bo\", label=\"Training accuracy\")\n",
    "plt.plot(epochs, val_acc, \"b\", label=\"Validation accuracy\")\n",
    "plt.title(\"Training and validation accuracy\")\n",
    "plt.legend()\n",
    "plt.figure()\n",
    "plt.plot(epochs, loss, \"bo\", label=\"Training loss\")\n",
    "plt.plot(epochs, val_loss, \"b\", label=\"Validation loss\")\n",
    "plt.title(\"Training and validation loss\")\n",
    "plt.legend()\n",
    "plt.show()"
   ]
  },
  {
   "cell_type": "markdown",
   "metadata": {
    "id": "NW2hFGfYWPAi"
   },
   "source": [
    "#### Feature extraction together with data augmentation"
   ]
  },
  {
   "cell_type": "markdown",
   "metadata": {
    "id": "3aM6Az4uWPAi"
   },
   "source": [
    "**Instantiating and freezing the VGG16 convolutional base**"
   ]
  },
  {
   "cell_type": "code",
   "execution_count": 7,
   "metadata": {
    "id": "7wfND8ugWPAi"
   },
   "outputs": [],
   "source": [
    "conv_base  = keras.applications.vgg16.VGG16(\n",
    "    weights=\"imagenet\",\n",
    "    include_top=False)\n",
    "conv_base.trainable = False"
   ]
  },
  {
   "cell_type": "markdown",
   "metadata": {
    "id": "pJoPwI5KWPAi"
   },
   "source": [
    "**Printing the list of trainable weights before and after freezing**"
   ]
  },
  {
   "cell_type": "code",
   "execution_count": 8,
   "metadata": {
    "id": "3fCAQ6NeWPAi"
   },
   "outputs": [
    {
     "name": "stdout",
     "output_type": "stream",
     "text": [
      "This is the number of trainable weights before freezing the conv base: 26\n"
     ]
    }
   ],
   "source": [
    "conv_base.trainable = True\n",
    "print(\"This is the number of trainable weights \"\n",
    "      \"before freezing the conv base:\", len(conv_base.trainable_weights))"
   ]
  },
  {
   "cell_type": "code",
   "execution_count": 9,
   "metadata": {
    "id": "F3uwjUeQWPAj"
   },
   "outputs": [
    {
     "name": "stdout",
     "output_type": "stream",
     "text": [
      "This is the number of trainable weights after freezing the conv base: 0\n"
     ]
    }
   ],
   "source": [
    "conv_base.trainable = False\n",
    "print(\"This is the number of trainable weights \"\n",
    "      \"after freezing the conv base:\", len(conv_base.trainable_weights))"
   ]
  },
  {
   "cell_type": "markdown",
   "metadata": {
    "id": "AG0bS3DfWPAj"
   },
   "source": [
    "**Adding a data augmentation stage and a classifier to the convolutional base**"
   ]
  },
  {
   "cell_type": "code",
   "execution_count": 11,
   "metadata": {
    "id": "xvuFzL2GWPAj"
   },
   "outputs": [
    {
     "name": "stdout",
     "output_type": "stream",
     "text": [
      "WARNING:tensorflow:Using a while_loop for converting RngReadAndSkip cause there is no registered converter for this op.\n",
      "WARNING:tensorflow:Using a while_loop for converting Bitcast cause there is no registered converter for this op.\n",
      "WARNING:tensorflow:Using a while_loop for converting Bitcast cause there is no registered converter for this op.\n",
      "WARNING:tensorflow:Using a while_loop for converting StatelessRandomUniformV2 cause there is no registered converter for this op.\n",
      "WARNING:tensorflow:Using a while_loop for converting ImageProjectiveTransformV3 cause there is no registered converter for this op.\n",
      "WARNING:tensorflow:Using a while_loop for converting RngReadAndSkip cause there is no registered converter for this op.\n",
      "WARNING:tensorflow:Using a while_loop for converting Bitcast cause there is no registered converter for this op.\n",
      "WARNING:tensorflow:Using a while_loop for converting Bitcast cause there is no registered converter for this op.\n",
      "WARNING:tensorflow:Using a while_loop for converting StatelessRandomUniformV2 cause there is no registered converter for this op.\n",
      "WARNING:tensorflow:Using a while_loop for converting ImageProjectiveTransformV3 cause there is no registered converter for this op.\n",
      "WARNING:tensorflow:Using a while_loop for converting RngReadAndSkip cause there is no registered converter for this op.\n",
      "WARNING:tensorflow:Using a while_loop for converting Bitcast cause there is no registered converter for this op.\n",
      "WARNING:tensorflow:Using a while_loop for converting Bitcast cause there is no registered converter for this op.\n",
      "WARNING:tensorflow:Using a while_loop for converting StatelessRandomUniformV2 cause there is no registered converter for this op.\n",
      "WARNING:tensorflow:Using a while_loop for converting ImageProjectiveTransformV3 cause there is no registered converter for this op.\n",
      "WARNING:tensorflow:Using a while_loop for converting RngReadAndSkip cause there is no registered converter for this op.\n",
      "WARNING:tensorflow:Using a while_loop for converting Bitcast cause there is no registered converter for this op.\n",
      "WARNING:tensorflow:Using a while_loop for converting Bitcast cause there is no registered converter for this op.\n",
      "WARNING:tensorflow:Using a while_loop for converting StatelessRandomUniformV2 cause there is no registered converter for this op.\n",
      "WARNING:tensorflow:Using a while_loop for converting ImageProjectiveTransformV3 cause there is no registered converter for this op.\n"
     ]
    }
   ],
   "source": [
    "from tensorflow.keras import layers\n",
    "from tensorflow import keras\n",
    "data_augmentation = keras.Sequential(\n",
    "    [\n",
    "        layers.RandomFlip(\"horizontal\"),\n",
    "        layers.RandomRotation(0.1),\n",
    "        layers.RandomZoom(0.2),\n",
    "    ]\n",
    ")\n",
    "\n",
    "inputs = keras.Input(shape=(180, 180, 3))\n",
    "x = data_augmentation(inputs)\n",
    "x = keras.applications.vgg16.preprocess_input(x)\n",
    "x = conv_base(x)\n",
    "x = layers.Flatten()(x)\n",
    "x = layers.Dense(256)(x)\n",
    "x = layers.Dropout(0.5)(x)\n",
    "outputs = layers.Dense(1, activation=\"sigmoid\")(x)\n",
    "model = keras.Model(inputs, outputs)\n",
    "model.compile(loss=\"binary_crossentropy\",\n",
    "              optimizer=\"rmsprop\",\n",
    "              metrics=[\"accuracy\"])"
   ]
  },
  {
   "cell_type": "code",
   "execution_count": 12,
   "metadata": {
    "id": "Eh14UWX3WPAj"
   },
   "outputs": [
    {
     "name": "stdout",
     "output_type": "stream",
     "text": [
      "Epoch 1/50\n",
      "WARNING:tensorflow:Using a while_loop for converting RngReadAndSkip cause there is no registered converter for this op.\n",
      "WARNING:tensorflow:Using a while_loop for converting Bitcast cause there is no registered converter for this op.\n",
      "WARNING:tensorflow:Using a while_loop for converting Bitcast cause there is no registered converter for this op.\n",
      "WARNING:tensorflow:Using a while_loop for converting StatelessRandomUniformV2 cause there is no registered converter for this op.\n",
      "WARNING:tensorflow:Using a while_loop for converting ImageProjectiveTransformV3 cause there is no registered converter for this op.\n",
      "WARNING:tensorflow:Using a while_loop for converting RngReadAndSkip cause there is no registered converter for this op.\n",
      "WARNING:tensorflow:Using a while_loop for converting Bitcast cause there is no registered converter for this op.\n",
      "WARNING:tensorflow:Using a while_loop for converting Bitcast cause there is no registered converter for this op.\n",
      "WARNING:tensorflow:Using a while_loop for converting StatelessRandomUniformV2 cause there is no registered converter for this op.\n",
      "WARNING:tensorflow:Using a while_loop for converting ImageProjectiveTransformV3 cause there is no registered converter for this op.\n",
      "WARNING:tensorflow:Using a while_loop for converting RngReadAndSkip cause there is no registered converter for this op.\n",
      "WARNING:tensorflow:Using a while_loop for converting Bitcast cause there is no registered converter for this op.\n",
      "WARNING:tensorflow:Using a while_loop for converting Bitcast cause there is no registered converter for this op.\n",
      "WARNING:tensorflow:Using a while_loop for converting StatelessRandomUniformV2 cause there is no registered converter for this op.\n",
      "WARNING:tensorflow:Using a while_loop for converting ImageProjectiveTransformV3 cause there is no registered converter for this op.\n",
      "WARNING:tensorflow:Using a while_loop for converting RngReadAndSkip cause there is no registered converter for this op.\n",
      "WARNING:tensorflow:Using a while_loop for converting Bitcast cause there is no registered converter for this op.\n",
      "WARNING:tensorflow:Using a while_loop for converting Bitcast cause there is no registered converter for this op.\n",
      "WARNING:tensorflow:Using a while_loop for converting StatelessRandomUniformV2 cause there is no registered converter for this op.\n",
      "WARNING:tensorflow:Using a while_loop for converting ImageProjectiveTransformV3 cause there is no registered converter for this op.\n",
      "63/63 [==============================] - 23s 239ms/step - loss: 18.7901 - accuracy: 0.9020 - val_loss: 1.7909 - val_accuracy: 0.9760\n",
      "Epoch 2/50\n",
      "63/63 [==============================] - 10s 161ms/step - loss: 8.0328 - accuracy: 0.9485 - val_loss: 5.3177 - val_accuracy: 0.9700\n",
      "Epoch 3/50\n",
      "63/63 [==============================] - 10s 162ms/step - loss: 5.4515 - accuracy: 0.9570 - val_loss: 7.2143 - val_accuracy: 0.9660\n",
      "Epoch 4/50\n",
      "63/63 [==============================] - 10s 163ms/step - loss: 5.7224 - accuracy: 0.9595 - val_loss: 2.7451 - val_accuracy: 0.9820\n",
      "Epoch 5/50\n",
      "63/63 [==============================] - 10s 162ms/step - loss: 3.4161 - accuracy: 0.9710 - val_loss: 3.7649 - val_accuracy: 0.9760\n",
      "Epoch 6/50\n",
      "63/63 [==============================] - 10s 162ms/step - loss: 3.1436 - accuracy: 0.9740 - val_loss: 4.7013 - val_accuracy: 0.9720\n",
      "Epoch 7/50\n",
      "63/63 [==============================] - 10s 163ms/step - loss: 3.2977 - accuracy: 0.9765 - val_loss: 3.7971 - val_accuracy: 0.9700\n",
      "Epoch 8/50\n",
      "63/63 [==============================] - 13s 200ms/step - loss: 2.4420 - accuracy: 0.9805 - val_loss: 0.8813 - val_accuracy: 0.9920\n",
      "Epoch 9/50\n",
      "63/63 [==============================] - 11s 179ms/step - loss: 1.6363 - accuracy: 0.9800 - val_loss: 1.9517 - val_accuracy: 0.9860\n",
      "Epoch 10/50\n",
      "63/63 [==============================] - 11s 179ms/step - loss: 1.9485 - accuracy: 0.9825 - val_loss: 2.6864 - val_accuracy: 0.9740\n",
      "Epoch 11/50\n",
      "63/63 [==============================] - 11s 179ms/step - loss: 1.7984 - accuracy: 0.9855 - val_loss: 7.2325 - val_accuracy: 0.9640\n",
      "Epoch 12/50\n",
      "63/63 [==============================] - 11s 179ms/step - loss: 2.6208 - accuracy: 0.9805 - val_loss: 3.8298 - val_accuracy: 0.9800\n",
      "Epoch 13/50\n",
      "63/63 [==============================] - 11s 178ms/step - loss: 1.8424 - accuracy: 0.9815 - val_loss: 5.8998 - val_accuracy: 0.9800\n",
      "Epoch 14/50\n",
      "63/63 [==============================] - 11s 179ms/step - loss: 1.0963 - accuracy: 0.9880 - val_loss: 3.2046 - val_accuracy: 0.9780\n",
      "Epoch 15/50\n",
      "63/63 [==============================] - 11s 179ms/step - loss: 1.8696 - accuracy: 0.9810 - val_loss: 3.6249 - val_accuracy: 0.9780\n",
      "Epoch 16/50\n",
      "63/63 [==============================] - 13s 198ms/step - loss: 1.2600 - accuracy: 0.9860 - val_loss: 2.8868 - val_accuracy: 0.9820\n",
      "Epoch 17/50\n",
      "63/63 [==============================] - 12s 197ms/step - loss: 1.2466 - accuracy: 0.9880 - val_loss: 1.5783 - val_accuracy: 0.9880\n",
      "Epoch 18/50\n",
      "63/63 [==============================] - 13s 198ms/step - loss: 1.4084 - accuracy: 0.9890 - val_loss: 2.2782 - val_accuracy: 0.9840\n",
      "Epoch 19/50\n",
      "63/63 [==============================] - 13s 199ms/step - loss: 1.3235 - accuracy: 0.9865 - val_loss: 6.6267 - val_accuracy: 0.9680\n",
      "Epoch 20/50\n",
      "63/63 [==============================] - 13s 199ms/step - loss: 2.0231 - accuracy: 0.9845 - val_loss: 1.8248 - val_accuracy: 0.9860\n",
      "Epoch 21/50\n",
      "63/63 [==============================] - 13s 199ms/step - loss: 0.9049 - accuracy: 0.9885 - val_loss: 1.5605 - val_accuracy: 0.9840\n",
      "Epoch 22/50\n",
      "63/63 [==============================] - 13s 200ms/step - loss: 1.6004 - accuracy: 0.9855 - val_loss: 2.6236 - val_accuracy: 0.9780\n",
      "Epoch 23/50\n",
      "63/63 [==============================] - 13s 202ms/step - loss: 0.7438 - accuracy: 0.9895 - val_loss: 1.4804 - val_accuracy: 0.9820\n",
      "Epoch 24/50\n",
      "63/63 [==============================] - 12s 197ms/step - loss: 0.6373 - accuracy: 0.9925 - val_loss: 1.8942 - val_accuracy: 0.9840\n",
      "Epoch 25/50\n",
      "63/63 [==============================] - 13s 198ms/step - loss: 0.7160 - accuracy: 0.9890 - val_loss: 1.7508 - val_accuracy: 0.9860\n",
      "Epoch 26/50\n",
      "63/63 [==============================] - 13s 198ms/step - loss: 0.7005 - accuracy: 0.9895 - val_loss: 3.7196 - val_accuracy: 0.9820\n",
      "Epoch 27/50\n",
      "63/63 [==============================] - 14s 217ms/step - loss: 1.0191 - accuracy: 0.9890 - val_loss: 2.7195 - val_accuracy: 0.9820\n",
      "Epoch 28/50\n",
      "63/63 [==============================] - 12s 195ms/step - loss: 0.4707 - accuracy: 0.9935 - val_loss: 1.8212 - val_accuracy: 0.9840\n",
      "Epoch 29/50\n",
      "63/63 [==============================] - 13s 199ms/step - loss: 0.4851 - accuracy: 0.9915 - val_loss: 1.8415 - val_accuracy: 0.9800\n",
      "Epoch 30/50\n",
      "63/63 [==============================] - 13s 200ms/step - loss: 0.5651 - accuracy: 0.9875 - val_loss: 2.5207 - val_accuracy: 0.9720\n",
      "Epoch 31/50\n",
      "63/63 [==============================] - 13s 198ms/step - loss: 0.4277 - accuracy: 0.9930 - val_loss: 1.8434 - val_accuracy: 0.9780\n",
      "Epoch 32/50\n",
      "63/63 [==============================] - 13s 200ms/step - loss: 0.4571 - accuracy: 0.9930 - val_loss: 3.3634 - val_accuracy: 0.9840\n",
      "Epoch 33/50\n",
      "63/63 [==============================] - 13s 199ms/step - loss: 0.6436 - accuracy: 0.9920 - val_loss: 2.6291 - val_accuracy: 0.9800\n",
      "Epoch 34/50\n",
      "63/63 [==============================] - 13s 200ms/step - loss: 0.9060 - accuracy: 0.9875 - val_loss: 3.1936 - val_accuracy: 0.9820\n",
      "Epoch 35/50\n",
      "63/63 [==============================] - 13s 201ms/step - loss: 0.4872 - accuracy: 0.9915 - val_loss: 4.0838 - val_accuracy: 0.9800\n",
      "Epoch 36/50\n",
      "63/63 [==============================] - 13s 201ms/step - loss: 0.6516 - accuracy: 0.9915 - val_loss: 3.5878 - val_accuracy: 0.9760\n",
      "Epoch 37/50\n",
      "63/63 [==============================] - 13s 201ms/step - loss: 0.8151 - accuracy: 0.9920 - val_loss: 4.1370 - val_accuracy: 0.9760\n",
      "Epoch 38/50\n",
      "63/63 [==============================] - 13s 200ms/step - loss: 0.7064 - accuracy: 0.9915 - val_loss: 3.9718 - val_accuracy: 0.9760\n",
      "Epoch 39/50\n",
      "63/63 [==============================] - 13s 202ms/step - loss: 0.4905 - accuracy: 0.9945 - val_loss: 3.2752 - val_accuracy: 0.9760\n",
      "Epoch 40/50\n",
      "63/63 [==============================] - 13s 204ms/step - loss: 0.5991 - accuracy: 0.9925 - val_loss: 3.7164 - val_accuracy: 0.9780\n",
      "Epoch 41/50\n",
      "63/63 [==============================] - 13s 201ms/step - loss: 0.6983 - accuracy: 0.9930 - val_loss: 3.5394 - val_accuracy: 0.9800\n",
      "Epoch 42/50\n",
      "63/63 [==============================] - 13s 203ms/step - loss: 0.3223 - accuracy: 0.9945 - val_loss: 2.9552 - val_accuracy: 0.9780\n",
      "Epoch 43/50\n",
      "63/63 [==============================] - 13s 203ms/step - loss: 0.5324 - accuracy: 0.9940 - val_loss: 2.7138 - val_accuracy: 0.9820\n",
      "Epoch 44/50\n",
      "63/63 [==============================] - 13s 202ms/step - loss: 0.0963 - accuracy: 0.9960 - val_loss: 2.0378 - val_accuracy: 0.9800\n",
      "Epoch 45/50\n",
      "63/63 [==============================] - 13s 203ms/step - loss: 0.5039 - accuracy: 0.9925 - val_loss: 2.3010 - val_accuracy: 0.9780\n",
      "Epoch 46/50\n",
      "63/63 [==============================] - 13s 202ms/step - loss: 0.9896 - accuracy: 0.9895 - val_loss: 2.5881 - val_accuracy: 0.9760\n",
      "Epoch 47/50\n",
      "63/63 [==============================] - 13s 202ms/step - loss: 0.4398 - accuracy: 0.9920 - val_loss: 3.2237 - val_accuracy: 0.9760\n",
      "Epoch 48/50\n",
      "63/63 [==============================] - 13s 201ms/step - loss: 0.2877 - accuracy: 0.9965 - val_loss: 4.5953 - val_accuracy: 0.9780\n",
      "Epoch 49/50\n",
      "63/63 [==============================] - 13s 205ms/step - loss: 0.5092 - accuracy: 0.9915 - val_loss: 5.1450 - val_accuracy: 0.9800\n",
      "Epoch 50/50\n",
      "63/63 [==============================] - 13s 203ms/step - loss: 0.0839 - accuracy: 0.9965 - val_loss: 3.9226 - val_accuracy: 0.9700\n"
     ]
    }
   ],
   "source": [
    "callbacks = [\n",
    "    keras.callbacks.ModelCheckpoint(\n",
    "        filepath=\"feature_extraction_with_data_augmentation.h5\",\n",
    "        save_best_only=True,\n",
    "        monitor=\"val_loss\")\n",
    "]\n",
    "history = model.fit(\n",
    "    train_dataset,\n",
    "    epochs=50,\n",
    "    validation_data=validation_dataset,\n",
    "    callbacks=callbacks)"
   ]
  },
  {
   "cell_type": "markdown",
   "metadata": {
    "id": "7sCQatyvWPAk"
   },
   "source": [
    "**Evaluating the model on the test set**"
   ]
  },
  {
   "cell_type": "code",
   "execution_count": 13,
   "metadata": {},
   "outputs": [
    {
     "data": {
      "image/png": "[encoded data removed]",
      "text/plain": [
       "<Figure size 640x480 with 1 Axes>"
      ]
     },
     "metadata": {},
     "output_type": "display_data"
    },
    {
     "data": {
      "image/png": "[encoded data removed]",
      "text/plain": [
       "<Figure size 640x480 with 1 Axes>"
      ]
     },
     "metadata": {},
     "output_type": "display_data"
    }
   ],
   "source": [
    "import matplotlib.pyplot as plt\n",
    "acc = history.history[\"accuracy\"]\n",
    "val_acc = history.history[\"val_accuracy\"]\n",
    "loss = history.history[\"loss\"]\n",
    "val_loss = history.history[\"val_loss\"]\n",
    "epochs = range(1, len(acc) + 1)\n",
    "plt.plot(epochs, acc, \"bo\", label=\"Training accuracy\")\n",
    "plt.plot(epochs, val_acc, \"b\", label=\"Validation accuracy\")\n",
    "plt.title(\"Training and validation accuracy\")\n",
    "plt.legend()\n",
    "plt.figure()\n",
    "plt.plot(epochs, loss, \"bo\", label=\"Training loss\")\n",
    "plt.plot(epochs, val_loss, \"b\", label=\"Validation loss\")\n",
    "plt.title(\"Training and validation loss\")\n",
    "plt.legend()\n",
    "plt.show()"
   ]
  },
  {
   "cell_type": "code",
   "execution_count": 14,
   "metadata": {
    "id": "5LUIxAwqWPAk"
   },
   "outputs": [
    {
     "name": "stdout",
     "output_type": "stream",
     "text": [
      "16/16 [==============================] - 2s 63ms/step - loss: 3.7699 - accuracy: 0.9780\n",
      "Test accuracy: 0.978\n"
     ]
    }
   ],
   "source": [
    "test_model = keras.models.load_model(\n",
    "    \"feature_extraction_with_data_augmentation.h5\")\n",
    "test_loss, test_acc = test_model.evaluate(test_dataset)\n",
    "print(f\"Test accuracy: {test_acc:.3f}\")"
   ]
  },
  {
   "cell_type": "markdown",
   "metadata": {
    "id": "QqWP5p-YWPAk"
   },
   "source": [
    "### Fine-tuning a pretrained model"
   ]
  },
  {
   "cell_type": "code",
   "execution_count": 15,
   "metadata": {
    "id": "4vwELUR1WPAl"
   },
   "outputs": [
    {
     "name": "stdout",
     "output_type": "stream",
     "text": [
      "Model: \"vgg16\"\n",
      "_________________________________________________________________\n",
      " Layer (type)                Output Shape              Param #   \n",
      "=================================================================\n",
      " input_2 (InputLayer)        [(None, None, None, 3)]   0         \n",
      "                                                                 \n",
      " block1_conv1 (Conv2D)       (None, None, None, 64)    1792      \n",
      "                                                                 \n",
      " block1_conv2 (Conv2D)       (None, None, None, 64)    36928     \n",
      "                                                                 \n",
      " block1_pool (MaxPooling2D)  (None, None, None, 64)    0         \n",
      "                                                                 \n",
      " block2_conv1 (Conv2D)       (None, None, None, 128)   73856     \n",
      "                                                                 \n",
      " block2_conv2 (Conv2D)       (None, None, None, 128)   147584    \n",
      "                                                                 \n",
      " block2_pool (MaxPooling2D)  (None, None, None, 128)   0         \n",
      "                                                                 \n",
      " block3_conv1 (Conv2D)       (None, None, None, 256)   295168    \n",
      "                                                                 \n",
      " block3_conv2 (Conv2D)       (None, None, None, 256)   590080    \n",
      "                                                                 \n",
      " block3_conv3 (Conv2D)       (None, None, None, 256)   590080    \n",
      "                                                                 \n",
      " block3_pool (MaxPooling2D)  (None, None, None, 256)   0         \n",
      "                                                                 \n",
      " block4_conv1 (Conv2D)       (None, None, None, 512)   1180160   \n",
      "                                                                 \n",
      " block4_conv2 (Conv2D)       (None, None, None, 512)   2359808   \n",
      "                                                                 \n",
      " block4_conv3 (Conv2D)       (None, None, None, 512)   2359808   \n",
      "                                                                 \n",
      " block4_pool (MaxPooling2D)  (None, None, None, 512)   0         \n",
      "                                                                 \n",
      " block5_conv1 (Conv2D)       (None, None, None, 512)   2359808   \n",
      "                                                                 \n",
      " block5_conv2 (Conv2D)       (None, None, None, 512)   2359808   \n",
      "                                                                 \n",
      " block5_conv3 (Conv2D)       (None, None, None, 512)   2359808   \n",
      "                                                                 \n",
      " block5_pool (MaxPooling2D)  (None, None, None, 512)   0         \n",
      "                                                                 \n",
      "=================================================================\n",
      "Total params: 14,714,688\n",
      "Trainable params: 0\n",
      "Non-trainable params: 14,714,688\n",
      "_________________________________________________________________\n"
     ]
    }
   ],
   "source": [
    "conv_base.summary()"
   ]
  },
  {
   "cell_type": "markdown",
   "metadata": {
    "id": "rgxaPeGuWPAl"
   },
   "source": [
    "**Freezing all layers until the fourth from the last**"
   ]
  },
  {
   "cell_type": "code",
   "execution_count": 16,
   "metadata": {
    "id": "1Dfr2FMQWPAl"
   },
   "outputs": [],
   "source": [
    "conv_base.trainable = True\n",
    "for layer in conv_base.layers[:-4]:\n",
    "    layer.trainable = False"
   ]
  },
  {
   "cell_type": "markdown",
   "metadata": {
    "id": "-CZOkEWAWPAl"
   },
   "source": [
    "**Fine-tuning the model**"
   ]
  },
  {
   "cell_type": "code",
   "execution_count": 17,
   "metadata": {
    "id": "Vqb2U6nJWPAl"
   },
   "outputs": [
    {
     "name": "stdout",
     "output_type": "stream",
     "text": [
      "Epoch 1/30\n",
      "WARNING:tensorflow:Using a while_loop for converting RngReadAndSkip cause there is no registered converter for this op.\n",
      "WARNING:tensorflow:Using a while_loop for converting Bitcast cause there is no registered converter for this op.\n",
      "WARNING:tensorflow:Using a while_loop for converting Bitcast cause there is no registered converter for this op.\n",
      "WARNING:tensorflow:Using a while_loop for converting StatelessRandomUniformV2 cause there is no registered converter for this op.\n",
      "WARNING:tensorflow:Using a while_loop for converting ImageProjectiveTransformV3 cause there is no registered converter for this op.\n",
      "WARNING:tensorflow:Using a while_loop for converting RngReadAndSkip cause there is no registered converter for this op.\n",
      "WARNING:tensorflow:Using a while_loop for converting Bitcast cause there is no registered converter for this op.\n",
      "WARNING:tensorflow:Using a while_loop for converting Bitcast cause there is no registered converter for this op.\n",
      "WARNING:tensorflow:Using a while_loop for converting StatelessRandomUniformV2 cause there is no registered converter for this op.\n",
      "WARNING:tensorflow:Using a while_loop for converting ImageProjectiveTransformV3 cause there is no registered converter for this op.\n",
      "WARNING:tensorflow:Using a while_loop for converting RngReadAndSkip cause there is no registered converter for this op.\n",
      "WARNING:tensorflow:Using a while_loop for converting Bitcast cause there is no registered converter for this op.\n",
      "WARNING:tensorflow:Using a while_loop for converting Bitcast cause there is no registered converter for this op.\n",
      "WARNING:tensorflow:Using a while_loop for converting StatelessRandomUniformV2 cause there is no registered converter for this op.\n",
      "WARNING:tensorflow:Using a while_loop for converting ImageProjectiveTransformV3 cause there is no registered converter for this op.\n",
      "WARNING:tensorflow:Using a while_loop for converting RngReadAndSkip cause there is no registered converter for this op.\n",
      "WARNING:tensorflow:Using a while_loop for converting Bitcast cause there is no registered converter for this op.\n",
      "WARNING:tensorflow:Using a while_loop for converting Bitcast cause there is no registered converter for this op.\n",
      "WARNING:tensorflow:Using a while_loop for converting StatelessRandomUniformV2 cause there is no registered converter for this op.\n",
      "WARNING:tensorflow:Using a while_loop for converting ImageProjectiveTransformV3 cause there is no registered converter for this op.\n",
      "63/63 [==============================] - 15s 192ms/step - loss: 3.4070 - accuracy: 0.9660 - val_loss: 2.6511 - val_accuracy: 0.9720\n",
      "Epoch 2/30\n",
      "63/63 [==============================] - 12s 195ms/step - loss: 1.9561 - accuracy: 0.9795 - val_loss: 2.2777 - val_accuracy: 0.9760\n",
      "Epoch 3/30\n",
      "63/63 [==============================] - 12s 193ms/step - loss: 1.1596 - accuracy: 0.9835 - val_loss: 2.5035 - val_accuracy: 0.9700\n",
      "Epoch 4/30\n",
      "63/63 [==============================] - 12s 193ms/step - loss: 1.0657 - accuracy: 0.9855 - val_loss: 2.1700 - val_accuracy: 0.9780\n",
      "Epoch 5/30\n",
      "63/63 [==============================] - 12s 194ms/step - loss: 0.6263 - accuracy: 0.9860 - val_loss: 1.9684 - val_accuracy: 0.9800\n",
      "Epoch 6/30\n",
      "63/63 [==============================] - 12s 194ms/step - loss: 0.9286 - accuracy: 0.9870 - val_loss: 2.1711 - val_accuracy: 0.9820\n",
      "Epoch 7/30\n",
      "63/63 [==============================] - 12s 193ms/step - loss: 0.7878 - accuracy: 0.9855 - val_loss: 2.2920 - val_accuracy: 0.9760\n",
      "Epoch 8/30\n",
      "63/63 [==============================] - 12s 197ms/step - loss: 0.6433 - accuracy: 0.9890 - val_loss: 2.3248 - val_accuracy: 0.9740\n",
      "Epoch 9/30\n",
      "63/63 [==============================] - 13s 201ms/step - loss: 0.5332 - accuracy: 0.9880 - val_loss: 1.8330 - val_accuracy: 0.9740\n",
      "Epoch 10/30\n",
      "63/63 [==============================] - 13s 200ms/step - loss: 0.3270 - accuracy: 0.9895 - val_loss: 2.0680 - val_accuracy: 0.9780\n",
      "Epoch 11/30\n",
      "63/63 [==============================] - 13s 202ms/step - loss: 0.3307 - accuracy: 0.9905 - val_loss: 2.6244 - val_accuracy: 0.9820\n",
      "Epoch 12/30\n",
      "63/63 [==============================] - 12s 197ms/step - loss: 0.4644 - accuracy: 0.9885 - val_loss: 2.0360 - val_accuracy: 0.9820\n",
      "Epoch 13/30\n",
      "63/63 [==============================] - 13s 199ms/step - loss: 0.1383 - accuracy: 0.9945 - val_loss: 1.3921 - val_accuracy: 0.9880\n",
      "Epoch 14/30\n",
      "63/63 [==============================] - 13s 200ms/step - loss: 0.1798 - accuracy: 0.9935 - val_loss: 1.6962 - val_accuracy: 0.9800\n",
      "Epoch 15/30\n",
      "63/63 [==============================] - 13s 200ms/step - loss: 0.3417 - accuracy: 0.9930 - val_loss: 1.7883 - val_accuracy: 0.9820\n",
      "Epoch 16/30\n",
      "63/63 [==============================] - 14s 222ms/step - loss: 0.1505 - accuracy: 0.9945 - val_loss: 1.8715 - val_accuracy: 0.9840\n",
      "Epoch 17/30\n",
      "63/63 [==============================] - 14s 221ms/step - loss: 0.0954 - accuracy: 0.9965 - val_loss: 3.0041 - val_accuracy: 0.9800\n",
      "Epoch 18/30\n",
      "63/63 [==============================] - 14s 225ms/step - loss: 0.2304 - accuracy: 0.9965 - val_loss: 1.7321 - val_accuracy: 0.9820\n",
      "Epoch 19/30\n",
      "63/63 [==============================] - 14s 226ms/step - loss: 0.2703 - accuracy: 0.9915 - val_loss: 1.7545 - val_accuracy: 0.9820\n",
      "Epoch 20/30\n",
      "63/63 [==============================] - 15s 236ms/step - loss: 0.1929 - accuracy: 0.9935 - val_loss: 1.8101 - val_accuracy: 0.9800\n",
      "Epoch 21/30\n",
      "63/63 [==============================] - 14s 227ms/step - loss: 0.2361 - accuracy: 0.9960 - val_loss: 1.6604 - val_accuracy: 0.9780\n",
      "Epoch 22/30\n",
      "63/63 [==============================] - 14s 219ms/step - loss: 0.2189 - accuracy: 0.9950 - val_loss: 1.4772 - val_accuracy: 0.9780\n",
      "Epoch 23/30\n",
      "63/63 [==============================] - 14s 220ms/step - loss: 0.1765 - accuracy: 0.9950 - val_loss: 1.9284 - val_accuracy: 0.9800\n",
      "Epoch 24/30\n",
      "63/63 [==============================] - 14s 226ms/step - loss: 0.1794 - accuracy: 0.9960 - val_loss: 1.7279 - val_accuracy: 0.9780\n",
      "Epoch 25/30\n",
      "63/63 [==============================] - 15s 235ms/step - loss: 0.1449 - accuracy: 0.9970 - val_loss: 1.4633 - val_accuracy: 0.9800\n",
      "Epoch 26/30\n",
      "63/63 [==============================] - 15s 243ms/step - loss: 0.0951 - accuracy: 0.9955 - val_loss: 1.5938 - val_accuracy: 0.9800\n",
      "Epoch 27/30\n",
      "63/63 [==============================] - 15s 238ms/step - loss: 0.0232 - accuracy: 0.9990 - val_loss: 1.5900 - val_accuracy: 0.9800\n",
      "Epoch 28/30\n",
      "63/63 [==============================] - 15s 230ms/step - loss: 0.1366 - accuracy: 0.9970 - val_loss: 1.8114 - val_accuracy: 0.9840\n",
      "Epoch 29/30\n",
      "63/63 [==============================] - 14s 227ms/step - loss: 0.2161 - accuracy: 0.9955 - val_loss: 2.1105 - val_accuracy: 0.9820\n",
      "Epoch 30/30\n",
      "63/63 [==============================] - 15s 233ms/step - loss: 0.0730 - accuracy: 0.9965 - val_loss: 1.3267 - val_accuracy: 0.9840\n"
     ]
    }
   ],
   "source": [
    "model.compile(loss=\"binary_crossentropy\",\n",
    "              optimizer=keras.optimizers.RMSprop(learning_rate=1e-5),\n",
    "              metrics=[\"accuracy\"])\n",
    "\n",
    "callbacks = [\n",
    "    keras.callbacks.ModelCheckpoint(\n",
    "        filepath=\"fine_tuning.keras\",\n",
    "        save_best_only=True,\n",
    "        monitor=\"val_loss\")\n",
    "]\n",
    "history = model.fit(\n",
    "    train_dataset,\n",
    "    epochs=30,\n",
    "    validation_data=validation_dataset,\n",
    "    callbacks=callbacks)"
   ]
  },
  {
   "cell_type": "code",
   "execution_count": 18,
   "metadata": {
    "id": "1P0KZyunWPAl"
   },
   "outputs": [
    {
     "name": "stdout",
     "output_type": "stream",
     "text": [
      "16/16 [==============================] - 1s 60ms/step - loss: 2.1591 - accuracy: 0.9760\n",
      "Test accuracy: 0.976\n"
     ]
    }
   ],
   "source": [
    "model = keras.models.load_model(\"fine_tuning.keras\")\n",
    "test_loss, test_acc = model.evaluate(test_dataset)\n",
    "print(f\"Test accuracy: {test_acc:.3f}\")"
   ]
  },
  {
   "cell_type": "markdown",
   "metadata": {
    "id": "tnp9225mWPAm"
   },
   "source": [
    "## Summary"
   ]
  }
 ],
 "metadata": {
  "accelerator": "GPU",
  "colab": {
   "provenance": []
  },
  "gpuClass": "standard",
  "kernelspec": {
   "display_name": "env-tensorflow10",
   "language": "python",
   "name": "python3"
  },
  "language_info": {
   "codemirror_mode": {
    "name": "ipython",
    "version": 3
   },
   "file_extension": ".py",
   "mimetype": "text/x-python",
   "name": "python",
   "nbconvert_exporter": "python",
   "pygments_lexer": "ipython3",
   "version": "3.10.15"
  }
 },
 "nbformat": 4,
 "nbformat_minor": 0
}
