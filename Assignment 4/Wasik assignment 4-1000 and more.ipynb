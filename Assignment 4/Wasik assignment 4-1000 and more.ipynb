{
 "cells": [
  {
   "cell_type": "markdown",
   "metadata": {
    "colab_type": "text"
   },
   "source": [
    "This is a companion notebook for the book [Deep Learning with Python, Second Edition](https://www.manning.com/books/deep-learning-with-python-second-edition?a_aid=keras&a_bid=76564dff). For readability, it only contains runnable code blocks and section titles, and omits everything else in the book: text paragraphs, figures, and pseudocode.\n",
    "\n",
    "**If you want to be able to follow what's going on, I recommend reading the notebook side by side with your copy of the book.**\n",
    "\n",
    "This notebook was generated for TensorFlow 2.6."
   ]
  },
  {
   "cell_type": "markdown",
   "metadata": {
    "colab_type": "text"
   },
   "source": [
    "### Processing words as a sequence: The sequence model approach"
   ]
  },
  {
   "cell_type": "markdown",
   "metadata": {
    "colab_type": "text"
   },
   "source": [
    "#### A first practical example"
   ]
  },
  {
   "cell_type": "markdown",
   "metadata": {
    "colab_type": "text"
   },
   "source": [
    "**Downloading the data**"
   ]
  },
  {
   "cell_type": "code",
   "execution_count": 1,
   "metadata": {},
   "outputs": [
    {
     "name": "stderr",
     "output_type": "stream",
     "text": [
      "  % Total    % Received % Xferd  Average Speed   Time    Time     Time  Current\n",
      "                                 Dload  Upload   Total   Spent    Left  Speed\n",
      "\n",
      "  0     0    0     0    0     0      0      0 --:--:-- --:--:-- --:--:--     0\n",
      "  0 80.2M    0 49152    0     0  85636      0  0:16:22 --:--:--  0:16:22 85930\n",
      "  0 80.2M    0  800k    0     0   497k      0  0:02:45  0:00:01  0:02:44  497k\n",
      "  2 80.2M    2 2432k    0     0   937k      0  0:01:27  0:00:02  0:01:25  937k\n",
      "  5 80.2M    5 4320k    0     0  1200k      0  0:01:08  0:00:03  0:01:05 1201k\n",
      "  7 80.2M    7 6176k    0     0  1349k      0  0:01:00  0:00:04  0:00:56 1350k\n",
      " 10 80.2M   10 8560k    0     0  1535k      0  0:00:53  0:00:05  0:00:48 1702k\n",
      " 14 80.2M   14 11.6M    0     0  1808k      0  0:00:45  0:00:06  0:00:39 2232k\n",
      " 18 80.2M   18 15.1M    0     0  2049k      0  0:00:40  0:00:07  0:00:33 2628k\n",
      " 23 80.2M   23 18.9M    0     0  2263k      0  0:00:36  0:00:08  0:00:28 3030k\n",
      " 29 80.2M   29 23.7M    0     0  2535k      0  0:00:32  0:00:09  0:00:23 3617k\n",
      " 35 80.2M   35 28.5M    0     0  2764k      0  0:00:29  0:00:10  0:00:19 4135k\n",
      " 43 80.2M   43 34.6M    0     0  3063k      0  0:00:26  0:00:11  0:00:15 4715k\n",
      " 49 80.2M   49 40.0M    0     0  3257k      0  0:00:25  0:00:12  0:00:13 5088k\n",
      " 55 80.2M   55 44.5M    0     0  3357k      0  0:00:24  0:00:13  0:00:11 5239k\n",
      " 60 80.2M   60 48.6M    0     0  3401k      0  0:00:24  0:00:14  0:00:10 5042k\n",
      " 67 80.2M   67 53.9M    0     0  3546k      0  0:00:23  0:00:15  0:00:08 5197k\n",
      " 72 80.2M   72 58.5M    0     0  3594k      0  0:00:22  0:00:16  0:00:06 4800k\n",
      " 77 80.2M   77 62.1M    0     0  3616k      0  0:00:22  0:00:17  0:00:05 4516k\n",
      " 82 80.2M   82 66.0M    0     0  3632k      0  0:00:22  0:00:18  0:00:04 4373k\n",
      " 86 80.2M   86 69.7M    0     0  3648k      0  0:00:22  0:00:19  0:00:03 4383k\n",
      " 91 80.2M   91 73.6M    0     0  3664k      0  0:00:22  0:00:20  0:00:02 4032k\n",
      " 96 80.2M   96 77.7M    0     0  3688k      0  0:00:22  0:00:21  0:00:01 4006k\n",
      "100 80.2M  100 80.2M    0     0  3711k      0  0:00:22  0:00:22 --:--:-- 4077k\n"
     ]
    }
   ],
   "source": [
    "!curl -O https://ai.stanford.edu/~amaas/data/sentiment/aclImdb_v1.tar.gz\n",
    "!tar -xf aclImdb_v1.tar.gz"
   ]
  },
  {
   "cell_type": "code",
   "execution_count": 2,
   "metadata": {
    "colab_type": "code"
   },
   "outputs": [
    {
     "name": "stdout",
     "output_type": "stream",
     "text": [
      "Deleted folder: aclImdb\\train\\unsup\n"
     ]
    }
   ],
   "source": [
    "\n",
    "#!rm -r aclImdb/train/unsup\n",
    "from pathlib import Path\n",
    "\n",
    "# Path to the folder\n",
    "folder_path = Path(\"aclImdb/train/unsup\")\n",
    "\n",
    "# Delete the folder if it exists\n",
    "if folder_path.exists() and folder_path.is_dir():\n",
    "    for item in folder_path.iterdir():\n",
    "        if item.is_dir():\n",
    "            shutil.rmtree(item)\n",
    "        else:\n",
    "            item.unlink()\n",
    "    folder_path.rmdir()\n",
    "    print(f\"Deleted folder: {folder_path}\")"
   ]
  },
  {
   "cell_type": "markdown",
   "metadata": {
    "colab_type": "text"
   },
   "source": [
    "**Preparing the data**"
   ]
  },
  {
   "cell_type": "code",
   "execution_count": 3,
   "metadata": {
    "colab_type": "code"
   },
   "outputs": [
    {
     "name": "stdout",
     "output_type": "stream",
     "text": [
      "Found 10000 files belonging to 2 classes.\n",
      "Found 10000 files belonging to 2 classes.\n",
      "Found 25000 files belonging to 2 classes.\n"
     ]
    }
   ],
   "source": [
    "import os, pathlib, random\n",
    "import shutil\n",
    "from tensorflow import keras\n",
    "batch_size = 32\n",
    "base_dir = pathlib.Path(\"aclImdb\")\n",
    "val_dir = base_dir / \"val\"\n",
    "train_dir = base_dir / \"train\"\n",
    "for category in (\"neg\", \"pos\"):\n",
    "    os.makedirs(val_dir / category)\n",
    "    #files = os.listdir(train_dir / category)\n",
    "    category_path = train_dir / category\n",
    "    files = os.listdir(category_path)\n",
    "    random.Random(1337).shuffle(files)\n",
    "\n",
    "    # Desired sample sizes\n",
    "    num_train_samples = 5000\n",
    "    num_val_samples = 5000\n",
    "     # Determine the number of files per category for validation\n",
    "    #num_files_per_category = len(files)\n",
    "    #val_limit = min(num_val_samples // 2, num_files_per_category - num_train_samples)\n",
    "\n",
    "    # Select training and validation files\n",
    "    train_files = files[:num_train_samples]  # Limit training samples evenly per category\n",
    "    #val_files = files[-val_limit:]  # Use the last `val_limit` files for validation\n",
    "    val_files = files[-num_val_samples:]\n",
    "    \n",
    "    # Move validation files to validation directory\n",
    "    for fname in val_files:\n",
    "        source_path = category_path / fname\n",
    "        target_path = val_dir / category / fname\n",
    "        if source_path.exists():  # Check if the file exists before moving\n",
    "            shutil.move(source_path, target_path)\n",
    "\n",
    "    # Remove any excess files from the training directory\n",
    "    excess_files = files[num_train_samples:num_train_samples + (len(files) - len(val_files))]\n",
    "    for fname in excess_files:\n",
    "        file_path = category_path / fname\n",
    "        if file_path.exists():  # Check if the file exists before deleting\n",
    "            os.remove(file_path)\n",
    "\n",
    "train_ds = keras.utils.text_dataset_from_directory(\n",
    "    \"aclImdb/train\", batch_size=batch_size\n",
    ")\n",
    "val_ds = keras.utils.text_dataset_from_directory(\n",
    "    \"aclImdb/val\", batch_size=batch_size\n",
    ")\n",
    "test_ds = keras.utils.text_dataset_from_directory(\n",
    "    \"aclImdb/test\", batch_size=batch_size\n",
    ")\n",
    "text_only_train_ds = train_ds.map(lambda x, y: x)"
   ]
  },
  {
   "cell_type": "markdown",
   "metadata": {
    "colab_type": "text"
   },
   "source": [
    "**Preparing integer sequence datasets**"
   ]
  },
  {
   "cell_type": "code",
   "execution_count": 4,
   "metadata": {
    "colab_type": "code"
   },
   "outputs": [],
   "source": [
    "from tensorflow.keras import layers\n",
    "\n",
    "max_length = 150\n",
    "max_tokens = 10000\n",
    "text_vectorization = layers.TextVectorization(\n",
    "    max_tokens=max_tokens,\n",
    "    output_mode=\"int\",\n",
    "    output_sequence_length=max_length,\n",
    ")\n",
    "text_vectorization.adapt(text_only_train_ds)\n",
    "\n",
    "int_train_ds = train_ds.map(\n",
    "    lambda x, y: (text_vectorization(x), y),\n",
    "    num_parallel_calls=4)\n",
    "int_val_ds = val_ds.map(\n",
    "    lambda x, y: (text_vectorization(x), y),\n",
    "    num_parallel_calls=4)\n",
    "int_test_ds = test_ds.map(\n",
    "    lambda x, y: (text_vectorization(x), y),\n",
    "    num_parallel_calls=4)"
   ]
  },
  {
   "cell_type": "markdown",
   "metadata": {
    "colab_type": "text"
   },
   "source": [
    "**A sequence model built on one-hot encoded vector sequences**"
   ]
  },
  {
   "cell_type": "code",
   "execution_count": 5,
   "metadata": {
    "colab_type": "code"
   },
   "outputs": [
    {
     "name": "stdout",
     "output_type": "stream",
     "text": [
      "Model: \"model\"\n",
      "_________________________________________________________________\n",
      " Layer (type)                Output Shape              Param #   \n",
      "=================================================================\n",
      " input_1 (InputLayer)        [(None, None)]            0         \n",
      "                                                                 \n",
      " tf.one_hot (TFOpLambda)     (None, None, 10000)       0         \n",
      "                                                                 \n",
      " bidirectional (Bidirectiona  (None, 64)               2568448   \n",
      " l)                                                              \n",
      "                                                                 \n",
      " dropout (Dropout)           (None, 64)                0         \n",
      "                                                                 \n",
      " dense (Dense)               (None, 1)                 65        \n",
      "                                                                 \n",
      "=================================================================\n",
      "Total params: 2,568,513\n",
      "Trainable params: 2,568,513\n",
      "Non-trainable params: 0\n",
      "_________________________________________________________________\n"
     ]
    }
   ],
   "source": [
    "import tensorflow as tf\n",
    "inputs = keras.Input(shape=(None,), dtype=\"int64\")\n",
    "embedded = tf.one_hot(inputs, depth=max_tokens)\n",
    "x = layers.Bidirectional(layers.LSTM(32))(embedded)\n",
    "x = layers.Dropout(0.5)(x)\n",
    "outputs = layers.Dense(1, activation=\"sigmoid\")(x)\n",
    "model = keras.Model(inputs, outputs)\n",
    "model.compile(optimizer=\"rmsprop\",\n",
    "              loss=\"binary_crossentropy\",\n",
    "              metrics=[\"accuracy\"])\n",
    "model.summary()"
   ]
  },
  {
   "cell_type": "markdown",
   "metadata": {
    "colab_type": "text"
   },
   "source": [
    "**Training a first basic sequence model**"
   ]
  },
  {
   "cell_type": "code",
   "execution_count": 6,
   "metadata": {
    "colab_type": "code"
   },
   "outputs": [
    {
     "name": "stdout",
     "output_type": "stream",
     "text": [
      "Epoch 1/10\n",
      "313/313 [==============================] - 21s 54ms/step - loss: 0.5815 - accuracy: 0.6979 - val_loss: 0.5232 - val_accuracy: 0.7415\n",
      "Epoch 2/10\n",
      "313/313 [==============================] - 14s 46ms/step - loss: 0.3849 - accuracy: 0.8447 - val_loss: 0.5060 - val_accuracy: 0.7382\n",
      "Epoch 3/10\n",
      "313/313 [==============================] - 15s 46ms/step - loss: 0.3088 - accuracy: 0.8830 - val_loss: 0.3511 - val_accuracy: 0.8505\n",
      "Epoch 4/10\n",
      "313/313 [==============================] - 15s 47ms/step - loss: 0.2599 - accuracy: 0.9006 - val_loss: 0.3486 - val_accuracy: 0.8470\n",
      "Epoch 5/10\n",
      "313/313 [==============================] - 15s 47ms/step - loss: 0.2168 - accuracy: 0.9204 - val_loss: 0.3784 - val_accuracy: 0.8394\n",
      "Epoch 6/10\n",
      "313/313 [==============================] - 15s 47ms/step - loss: 0.1834 - accuracy: 0.9342 - val_loss: 0.9899 - val_accuracy: 0.7648\n",
      "Epoch 7/10\n",
      "313/313 [==============================] - 15s 47ms/step - loss: 0.1578 - accuracy: 0.9449 - val_loss: 0.3739 - val_accuracy: 0.8388\n",
      "Epoch 8/10\n",
      "313/313 [==============================] - 15s 49ms/step - loss: 0.1372 - accuracy: 0.9550 - val_loss: 0.5545 - val_accuracy: 0.8257\n",
      "Epoch 9/10\n",
      "313/313 [==============================] - 15s 48ms/step - loss: 0.1073 - accuracy: 0.9640 - val_loss: 0.5492 - val_accuracy: 0.8347\n",
      "Epoch 10/10\n",
      "313/313 [==============================] - 16s 50ms/step - loss: 0.0873 - accuracy: 0.9705 - val_loss: 0.4627 - val_accuracy: 0.8317\n",
      "782/782 [==============================] - 20s 24ms/step - loss: 0.3712 - accuracy: 0.8354\n",
      "Test acc: 0.835\n"
     ]
    }
   ],
   "source": [
    "callbacks = [\n",
    "    keras.callbacks.ModelCheckpoint(\"one_hot_bidir_lstm.keras\",\n",
    "                                    save_best_only=True)\n",
    "]\n",
    "model.fit(int_train_ds, validation_data=int_val_ds, epochs=10, callbacks=callbacks)\n",
    "model = keras.models.load_model(\"one_hot_bidir_lstm.keras\")\n",
    "print(f\"Test acc: {model.evaluate(int_test_ds)[1]:.3f}\")"
   ]
  },
  {
   "cell_type": "markdown",
   "metadata": {
    "colab_type": "text"
   },
   "source": [
    "#### Understanding word embeddings"
   ]
  },
  {
   "cell_type": "markdown",
   "metadata": {
    "colab_type": "text"
   },
   "source": [
    "#### Learning word embeddings with the Embedding layer"
   ]
  },
  {
   "cell_type": "markdown",
   "metadata": {
    "colab_type": "text"
   },
   "source": [
    "**Instantiating an `Embedding` layer**"
   ]
  },
  {
   "cell_type": "code",
   "execution_count": 7,
   "metadata": {
    "colab_type": "code"
   },
   "outputs": [],
   "source": [
    "embedding_layer = layers.Embedding(input_dim=max_tokens, output_dim=256)"
   ]
  },
  {
   "cell_type": "markdown",
   "metadata": {
    "colab_type": "text"
   },
   "source": [
    "**Model that uses an `Embedding` layer trained from scratch**"
   ]
  },
  {
   "cell_type": "code",
   "execution_count": 8,
   "metadata": {
    "colab_type": "code"
   },
   "outputs": [
    {
     "name": "stdout",
     "output_type": "stream",
     "text": [
      "Model: \"model_1\"\n",
      "_________________________________________________________________\n",
      " Layer (type)                Output Shape              Param #   \n",
      "=================================================================\n",
      " input_2 (InputLayer)        [(None, None)]            0         \n",
      "                                                                 \n",
      " embedding_1 (Embedding)     (None, None, 256)         2560000   \n",
      "                                                                 \n",
      " bidirectional_1 (Bidirectio  (None, 64)               73984     \n",
      " nal)                                                            \n",
      "                                                                 \n",
      " dropout_1 (Dropout)         (None, 64)                0         \n",
      "                                                                 \n",
      " dense_1 (Dense)             (None, 1)                 65        \n",
      "                                                                 \n",
      "=================================================================\n",
      "Total params: 2,634,049\n",
      "Trainable params: 2,634,049\n",
      "Non-trainable params: 0\n",
      "_________________________________________________________________\n",
      "Epoch 1/10\n",
      "313/313 [==============================] - 15s 41ms/step - loss: 0.5451 - accuracy: 0.7245 - val_loss: 0.4352 - val_accuracy: 0.8099\n",
      "Epoch 2/10\n",
      "313/313 [==============================] - 12s 38ms/step - loss: 0.3391 - accuracy: 0.8639 - val_loss: 0.3844 - val_accuracy: 0.8297\n",
      "Epoch 3/10\n",
      "313/313 [==============================] - 12s 39ms/step - loss: 0.2467 - accuracy: 0.9067 - val_loss: 0.4056 - val_accuracy: 0.8238\n",
      "Epoch 4/10\n",
      "313/313 [==============================] - 12s 38ms/step - loss: 0.1922 - accuracy: 0.9302 - val_loss: 0.5134 - val_accuracy: 0.7925\n",
      "Epoch 5/10\n",
      "313/313 [==============================] - 12s 39ms/step - loss: 0.1480 - accuracy: 0.9504 - val_loss: 0.5175 - val_accuracy: 0.8384\n",
      "Epoch 6/10\n",
      "313/313 [==============================] - 12s 38ms/step - loss: 0.1147 - accuracy: 0.9603 - val_loss: 0.5420 - val_accuracy: 0.8298\n",
      "Epoch 7/10\n",
      "313/313 [==============================] - 12s 38ms/step - loss: 0.0847 - accuracy: 0.9724 - val_loss: 0.5884 - val_accuracy: 0.8214\n",
      "Epoch 8/10\n",
      "313/313 [==============================] - 12s 38ms/step - loss: 0.0556 - accuracy: 0.9807 - val_loss: 0.6518 - val_accuracy: 0.8237\n",
      "Epoch 9/10\n",
      "313/313 [==============================] - 12s 38ms/step - loss: 0.0477 - accuracy: 0.9842 - val_loss: 0.7687 - val_accuracy: 0.8153\n",
      "Epoch 10/10\n",
      "313/313 [==============================] - 12s 38ms/step - loss: 0.0332 - accuracy: 0.9898 - val_loss: 0.9626 - val_accuracy: 0.7922\n",
      "782/782 [==============================] - 11s 13ms/step - loss: 0.4117 - accuracy: 0.8128\n",
      "Test acc: 0.813\n"
     ]
    }
   ],
   "source": [
    "inputs = keras.Input(shape=(None,), dtype=\"int64\")\n",
    "embedded = layers.Embedding(input_dim=max_tokens, output_dim=256)(inputs)\n",
    "x = layers.Bidirectional(layers.LSTM(32))(embedded)\n",
    "x = layers.Dropout(0.5)(x)\n",
    "outputs = layers.Dense(1, activation=\"sigmoid\")(x)\n",
    "model = keras.Model(inputs, outputs)\n",
    "model.compile(optimizer=\"rmsprop\",\n",
    "              loss=\"binary_crossentropy\",\n",
    "              metrics=[\"accuracy\"])\n",
    "model.summary()\n",
    "\n",
    "callbacks = [\n",
    "    keras.callbacks.ModelCheckpoint(\"embeddings_bidir_gru.keras\",\n",
    "                                    save_best_only=True)\n",
    "]\n",
    "model.fit(int_train_ds, validation_data=int_val_ds, epochs=10, callbacks=callbacks)\n",
    "model = keras.models.load_model(\"embeddings_bidir_gru.keras\")\n",
    "print(f\"Test acc: {model.evaluate(int_test_ds)[1]:.3f}\")"
   ]
  },
  {
   "cell_type": "markdown",
   "metadata": {
    "colab_type": "text"
   },
   "source": [
    "#### Understanding padding and masking"
   ]
  },
  {
   "cell_type": "markdown",
   "metadata": {
    "colab_type": "text"
   },
   "source": [
    "**Using an `Embedding` layer with masking enabled**"
   ]
  },
  {
   "cell_type": "code",
   "execution_count": 9,
   "metadata": {
    "colab_type": "code"
   },
   "outputs": [
    {
     "name": "stdout",
     "output_type": "stream",
     "text": [
      "Model: \"model_2\"\n",
      "_________________________________________________________________\n",
      " Layer (type)                Output Shape              Param #   \n",
      "=================================================================\n",
      " input_3 (InputLayer)        [(None, None)]            0         \n",
      "                                                                 \n",
      " embedding_2 (Embedding)     (None, None, 256)         2560000   \n",
      "                                                                 \n",
      " bidirectional_2 (Bidirectio  (None, 64)               73984     \n",
      " nal)                                                            \n",
      "                                                                 \n",
      " dropout_2 (Dropout)         (None, 64)                0         \n",
      "                                                                 \n",
      " dense_2 (Dense)             (None, 1)                 65        \n",
      "                                                                 \n",
      "=================================================================\n",
      "Total params: 2,634,049\n",
      "Trainable params: 2,634,049\n",
      "Non-trainable params: 0\n",
      "_________________________________________________________________\n",
      "Epoch 1/10\n",
      "313/313 [==============================] - 22s 52ms/step - loss: 0.5085 - accuracy: 0.7458 - val_loss: 0.3739 - val_accuracy: 0.8394\n",
      "Epoch 2/10\n",
      "313/313 [==============================] - 15s 48ms/step - loss: 0.3037 - accuracy: 0.8777 - val_loss: 0.3966 - val_accuracy: 0.8420\n",
      "Epoch 3/10\n",
      "313/313 [==============================] - 14s 45ms/step - loss: 0.2212 - accuracy: 0.9183 - val_loss: 0.4036 - val_accuracy: 0.8329\n",
      "Epoch 4/10\n",
      "313/313 [==============================] - 15s 47ms/step - loss: 0.1601 - accuracy: 0.9440 - val_loss: 0.3997 - val_accuracy: 0.8311\n",
      "Epoch 5/10\n",
      "313/313 [==============================] - 14s 43ms/step - loss: 0.1101 - accuracy: 0.9613 - val_loss: 0.5539 - val_accuracy: 0.8271\n",
      "Epoch 6/10\n",
      "313/313 [==============================] - 13s 42ms/step - loss: 0.0794 - accuracy: 0.9735 - val_loss: 0.5692 - val_accuracy: 0.8250\n",
      "Epoch 7/10\n",
      "313/313 [==============================] - 13s 43ms/step - loss: 0.0531 - accuracy: 0.9827 - val_loss: 0.7308 - val_accuracy: 0.8218\n",
      "Epoch 8/10\n",
      "313/313 [==============================] - 13s 43ms/step - loss: 0.0354 - accuracy: 0.9872 - val_loss: 0.8179 - val_accuracy: 0.8231\n",
      "Epoch 9/10\n",
      "313/313 [==============================] - 13s 42ms/step - loss: 0.0225 - accuracy: 0.9934 - val_loss: 0.7941 - val_accuracy: 0.8105\n",
      "Epoch 10/10\n",
      "313/313 [==============================] - 13s 42ms/step - loss: 0.0178 - accuracy: 0.9941 - val_loss: 0.7976 - val_accuracy: 0.8067\n",
      "782/782 [==============================] - 13s 15ms/step - loss: 0.3889 - accuracy: 0.8308\n",
      "Test acc: 0.831\n"
     ]
    }
   ],
   "source": [
    "inputs = keras.Input(shape=(None,), dtype=\"int64\")\n",
    "embedded = layers.Embedding(\n",
    "    input_dim=max_tokens, output_dim=256, mask_zero=True)(inputs)\n",
    "x = layers.Bidirectional(layers.LSTM(32))(embedded)\n",
    "x = layers.Dropout(0.5)(x)\n",
    "outputs = layers.Dense(1, activation=\"sigmoid\")(x)\n",
    "model = keras.Model(inputs, outputs)\n",
    "model.compile(optimizer=\"rmsprop\",\n",
    "              loss=\"binary_crossentropy\",\n",
    "              metrics=[\"accuracy\"])\n",
    "model.summary()\n",
    "\n",
    "callbacks = [\n",
    "    keras.callbacks.ModelCheckpoint(\"embeddings_bidir_gru_with_masking.keras\",\n",
    "                                    save_best_only=True)\n",
    "]\n",
    "model.fit(int_train_ds, validation_data=int_val_ds, epochs=10, callbacks=callbacks)\n",
    "model = keras.models.load_model(\"embeddings_bidir_gru_with_masking.keras\")\n",
    "print(f\"Test acc: {model.evaluate(int_test_ds)[1]:.3f}\")"
   ]
  },
  {
   "cell_type": "markdown",
   "metadata": {
    "colab_type": "text"
   },
   "source": [
    "#### Using pretrained word embeddings"
   ]
  },
  {
   "cell_type": "code",
   "execution_count": 27,
   "metadata": {},
   "outputs": [
    {
     "name": "stdout",
     "output_type": "stream",
     "text": [
      "Collecting unzip\n",
      "  Downloading unzip-1.0.0.tar.gz (704 bytes)\n",
      "  Preparing metadata (setup.py): started\n",
      "  Preparing metadata (setup.py): finished with status 'done'\n",
      "Building wheels for collected packages: unzip\n",
      "  Building wheel for unzip (setup.py): started\n",
      "  Building wheel for unzip (setup.py): finished with status 'done'\n",
      "  Created wheel for unzip: filename=unzip-1.0.0-py3-none-any.whl size=1289 sha256=443001d0d0366331a73971511f3341b8100a5c3841a33de83517662382ef8379\n",
      "  Stored in directory: c:\\users\\ola\\appdata\\local\\pip\\cache\\wheels\\80\\dc\\7a\\f8af45bc239e7933509183f038ea8d46f3610aab82b35369f4\n",
      "Successfully built unzip\n",
      "Installing collected packages: unzip\n",
      "Successfully installed unzip-1.0.0\n"
     ]
    }
   ],
   "source": [
    "!pip install unzip"
   ]
  },
  {
   "cell_type": "code",
   "execution_count": 33,
   "metadata": {
    "colab_type": "code"
   },
   "outputs": [
    {
     "name": "stderr",
     "output_type": "stream",
     "text": [
      "'wget' is not recognized as an internal or external command,\n",
      "operable program or batch file.\n",
      "'unzip' is not recognized as an internal or external command,\n",
      "operable program or batch file.\n"
     ]
    }
   ],
   "source": [
    "import wget\n",
    "import unzip\n",
    "!wget http://nlp.stanford.edu/data/glove.6B.zip\n",
    "!unzip -q glove.6B.zip"
   ]
  },
  {
   "cell_type": "markdown",
   "metadata": {
    "colab_type": "text"
   },
   "source": [
    "**Parsing the GloVe word-embeddings file**"
   ]
  },
  {
   "cell_type": "code",
   "execution_count": 10,
   "metadata": {
    "colab_type": "code"
   },
   "outputs": [
    {
     "name": "stdout",
     "output_type": "stream",
     "text": [
      "Found 400000 word vectors.\n"
     ]
    }
   ],
   "source": [
    "import numpy as np\n",
    "path_to_glove_file = \"glove.6B/glove.6B.100d.txt\"\n",
    "\n",
    "embeddings_index = {}\n",
    "with open(path_to_glove_file) as f:\n",
    "    for line in f:\n",
    "        word, coefs = line.split(maxsplit=1)\n",
    "        coefs = np.fromstring(coefs, \"f\", sep=\" \")\n",
    "        embeddings_index[word] = coefs\n",
    "\n",
    "print(f\"Found {len(embeddings_index)} word vectors.\")"
   ]
  },
  {
   "cell_type": "markdown",
   "metadata": {
    "colab_type": "text"
   },
   "source": [
    "**Preparing the GloVe word-embeddings matrix**"
   ]
  },
  {
   "cell_type": "code",
   "execution_count": 11,
   "metadata": {
    "colab_type": "code"
   },
   "outputs": [],
   "source": [
    "embedding_dim = 100\n",
    "\n",
    "vocabulary = text_vectorization.get_vocabulary()\n",
    "word_index = dict(zip(vocabulary, range(len(vocabulary))))\n",
    "\n",
    "embedding_matrix = np.zeros((max_tokens, embedding_dim))\n",
    "for word, i in word_index.items():\n",
    "    if i < max_tokens:\n",
    "        embedding_vector = embeddings_index.get(word)\n",
    "    if embedding_vector is not None:\n",
    "        embedding_matrix[i] = embedding_vector"
   ]
  },
  {
   "cell_type": "code",
   "execution_count": 12,
   "metadata": {
    "colab_type": "code"
   },
   "outputs": [],
   "source": [
    "embedding_layer = layers.Embedding(\n",
    "    max_tokens,\n",
    "    embedding_dim,\n",
    "    embeddings_initializer=keras.initializers.Constant(embedding_matrix),\n",
    "    trainable=False,\n",
    "    mask_zero=True,\n",
    ")"
   ]
  },
  {
   "cell_type": "markdown",
   "metadata": {
    "colab_type": "text"
   },
   "source": [
    "**Model that uses a pretrained Embedding layer**"
   ]
  },
  {
   "cell_type": "code",
   "execution_count": 13,
   "metadata": {
    "colab_type": "code"
   },
   "outputs": [
    {
     "name": "stdout",
     "output_type": "stream",
     "text": [
      "Model: \"model_3\"\n",
      "_________________________________________________________________\n",
      " Layer (type)                Output Shape              Param #   \n",
      "=================================================================\n",
      " input_4 (InputLayer)        [(None, None)]            0         \n",
      "                                                                 \n",
      " embedding_3 (Embedding)     (None, None, 100)         1000000   \n",
      "                                                                 \n",
      " bidirectional_3 (Bidirectio  (None, 64)               34048     \n",
      " nal)                                                            \n",
      "                                                                 \n",
      " dropout_3 (Dropout)         (None, 64)                0         \n",
      "                                                                 \n",
      " dense_3 (Dense)             (None, 1)                 65        \n",
      "                                                                 \n",
      "=================================================================\n",
      "Total params: 1,034,113\n",
      "Trainable params: 34,113\n",
      "Non-trainable params: 1,000,000\n",
      "_________________________________________________________________\n",
      "Epoch 1/10\n",
      "313/313 [==============================] - 21s 50ms/step - loss: 0.6322 - accuracy: 0.6401 - val_loss: 0.5449 - val_accuracy: 0.7249\n",
      "Epoch 2/10\n",
      "313/313 [==============================] - 15s 47ms/step - loss: 0.5437 - accuracy: 0.7268 - val_loss: 0.4975 - val_accuracy: 0.7627\n",
      "Epoch 3/10\n",
      "313/313 [==============================] - 15s 46ms/step - loss: 0.4939 - accuracy: 0.7659 - val_loss: 0.4850 - val_accuracy: 0.7634\n",
      "Epoch 4/10\n",
      "313/313 [==============================] - 15s 47ms/step - loss: 0.4623 - accuracy: 0.7846 - val_loss: 0.4614 - val_accuracy: 0.7827\n",
      "Epoch 5/10\n",
      "313/313 [==============================] - 14s 44ms/step - loss: 0.4362 - accuracy: 0.8014 - val_loss: 0.4757 - val_accuracy: 0.7783\n",
      "Epoch 6/10\n",
      "313/313 [==============================] - 15s 47ms/step - loss: 0.4167 - accuracy: 0.8133 - val_loss: 0.4261 - val_accuracy: 0.8072\n",
      "Epoch 7/10\n",
      "313/313 [==============================] - 15s 48ms/step - loss: 0.3992 - accuracy: 0.8195 - val_loss: 0.4202 - val_accuracy: 0.8082\n",
      "Epoch 8/10\n",
      "313/313 [==============================] - 15s 48ms/step - loss: 0.3814 - accuracy: 0.8332 - val_loss: 0.4115 - val_accuracy: 0.8110\n",
      "Epoch 9/10\n",
      "313/313 [==============================] - 14s 46ms/step - loss: 0.3687 - accuracy: 0.8370 - val_loss: 0.4228 - val_accuracy: 0.8102\n",
      "Epoch 10/10\n",
      "313/313 [==============================] - 14s 44ms/step - loss: 0.3454 - accuracy: 0.8511 - val_loss: 0.4205 - val_accuracy: 0.8088\n",
      "782/782 [==============================] - 14s 16ms/step - loss: 0.4118 - accuracy: 0.8094\n",
      "Test acc: 0.809\n"
     ]
    }
   ],
   "source": [
    "inputs = keras.Input(shape=(None,), dtype=\"int64\")\n",
    "embedded = embedding_layer(inputs)\n",
    "x = layers.Bidirectional(layers.LSTM(32))(embedded)\n",
    "x = layers.Dropout(0.5)(x)\n",
    "outputs = layers.Dense(1, activation=\"sigmoid\")(x)\n",
    "model = keras.Model(inputs, outputs)\n",
    "model.compile(optimizer=\"rmsprop\",\n",
    "              loss=\"binary_crossentropy\",\n",
    "              metrics=[\"accuracy\"])\n",
    "model.summary()\n",
    "\n",
    "callbacks = [\n",
    "    keras.callbacks.ModelCheckpoint(\"glove_embeddings_sequence_model.keras\",\n",
    "                                    save_best_only=True)\n",
    "]\n",
    "model.fit(int_train_ds, validation_data=int_val_ds, epochs=10, callbacks=callbacks)\n",
    "model = keras.models.load_model(\"glove_embeddings_sequence_model.keras\")\n",
    "print(f\"Test acc: {model.evaluate(int_test_ds)[1]:.3f}\")"
   ]
  }
 ],
 "metadata": {
  "colab": {
   "collapsed_sections": [],
   "name": "chapter11_part02_sequence-models.i",
   "private_outputs": false,
   "provenance": [],
   "toc_visible": true
  },
  "kernelspec": {
   "display_name": "env-tensorflow10",
   "language": "python",
   "name": "python3"
  },
  "language_info": {
   "codemirror_mode": {
    "name": "ipython",
    "version": 3
   },
   "file_extension": ".py",
   "mimetype": "text/x-python",
   "name": "python",
   "nbconvert_exporter": "python",
   "pygments_lexer": "ipython3",
   "version": "3.10.15"
  }
 },
 "nbformat": 4,
 "nbformat_minor": 0
}
