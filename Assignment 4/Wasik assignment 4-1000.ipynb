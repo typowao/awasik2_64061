{
 "cells": [
  {
   "cell_type": "markdown",
   "metadata": {
    "colab_type": "text"
   },
   "source": [
    "This is a companion notebook for the book [Deep Learning with Python, Second Edition](https://www.manning.com/books/deep-learning-with-python-second-edition?a_aid=keras&a_bid=76564dff). For readability, it only contains runnable code blocks and section titles, and omits everything else in the book: text paragraphs, figures, and pseudocode.\n",
    "\n",
    "**If you want to be able to follow what's going on, I recommend reading the notebook side by side with your copy of the book.**\n",
    "\n",
    "This notebook was generated for TensorFlow 2.6."
   ]
  },
  {
   "cell_type": "markdown",
   "metadata": {
    "colab_type": "text"
   },
   "source": [
    "### Processing words as a sequence: The sequence model approach"
   ]
  },
  {
   "cell_type": "markdown",
   "metadata": {
    "colab_type": "text"
   },
   "source": [
    "#### A first practical example"
   ]
  },
  {
   "cell_type": "markdown",
   "metadata": {
    "colab_type": "text"
   },
   "source": [
    "**Downloading the data**"
   ]
  },
  {
   "cell_type": "code",
   "execution_count": 25,
   "metadata": {},
   "outputs": [
    {
     "name": "stderr",
     "output_type": "stream",
     "text": [
      "  % Total    % Received % Xferd  Average Speed   Time    Time     Time  Current\n",
      "                                 Dload  Upload   Total   Spent    Left  Speed\n",
      "\n",
      "  0     0    0     0    0     0      0      0 --:--:-- --:--:-- --:--:--     0\n",
      "  0     0    0     0    0     0      0      0 --:--:-- --:--:-- --:--:--     0\n",
      "  0 80.2M    0  400k    0     0   328k      0  0:04:09  0:00:01  0:04:08  329k\n",
      "  1 80.2M    1 1456k    0     0   656k      0  0:02:05  0:00:02  0:02:03  657k\n",
      "  3 80.2M    3 3136k    0     0   973k      0  0:01:24  0:00:03  0:01:21  973k\n",
      "  6 80.2M    6 5424k    0     0  1283k      0  0:01:04  0:00:04  0:01:00 1284k\n",
      "  9 80.2M    9 7936k    0     0  1513k      0  0:00:54  0:00:05  0:00:49 1584k\n",
      " 11 80.2M   11 9264k    0     0  1466k      0  0:00:56  0:00:06  0:00:50 1738k\n",
      " 13 80.2M   13 10.7M    0     0  1519k      0  0:00:54  0:00:07  0:00:47 1899k\n",
      " 15 80.2M   15 12.6M    0     0  1580k      0  0:00:51  0:00:08  0:00:43 1972k\n",
      " 18 80.2M   18 14.5M    0     0  1621k      0  0:00:50  0:00:09  0:00:41 1907k\n",
      " 21 80.2M   21 17.1M    0     0  1717k      0  0:00:47  0:00:10  0:00:37 1932k\n",
      " 24 80.2M   24 20.0M    0     0  1826k      0  0:00:44  0:00:11  0:00:33 2289k\n",
      " 28 80.2M   28 22.9M    0     0  1922k      0  0:00:42  0:00:12  0:00:30 2511k\n",
      " 31 80.2M   31 25.6M    0     0  1987k      0  0:00:41  0:00:13  0:00:28 2656k\n",
      " 35 80.2M   35 28.5M    0     0  2053k      0  0:00:40  0:00:14  0:00:26 2847k\n",
      " 39 80.2M   39 31.5M    0     0  2116k      0  0:00:38  0:00:15  0:00:23 2931k\n",
      " 42 80.2M   42 34.3M    0     0  2169k      0  0:00:37  0:00:16  0:00:21 2939k\n",
      " 46 80.2M   46 37.2M    0     0  2213k      0  0:00:37  0:00:17  0:00:20 2924k\n",
      " 50 80.2M   50 40.1M    0     0  2255k      0  0:00:36  0:00:18  0:00:18 2964k\n",
      " 54 80.2M   54 43.5M    0     0  2320k      0  0:00:35  0:00:19  0:00:16 3084k\n",
      " 58 80.2M   58 47.2M    0     0  2395k      0  0:00:34  0:00:20  0:00:14 3250k\n",
      " 64 80.2M   64 51.6M    0     0  2493k      0  0:00:32  0:00:21  0:00:11 3543k\n",
      " 70 80.2M   70 56.7M    0     0  2614k      0  0:00:31  0:00:22  0:00:09 3989k\n",
      " 75 80.2M   75 60.7M    0     0  2663k      0  0:00:30  0:00:23  0:00:07 4114k\n",
      " 81 80.2M   81 65.1M    0     0  2752k      0  0:00:29  0:00:24  0:00:05 4415k\n",
      " 86 80.2M   86 69.7M    0     0  2834k      0  0:00:28  0:00:25  0:00:03 4605k\n",
      " 92 80.2M   92 74.4M    0     0  2908k      0  0:00:28  0:00:26  0:00:02 4672k\n",
      " 98 80.2M   98 78.7M    0     0  2961k      0  0:00:27  0:00:27 --:--:-- 4508k\n",
      "100 80.2M  100 80.2M    0     0  2986k      0  0:00:27  0:00:27 --:--:-- 4794k\n"
     ]
    }
   ],
   "source": [
    "!curl -O https://ai.stanford.edu/~amaas/data/sentiment/aclImdb_v1.tar.gz\n",
    "!tar -xf aclImdb_v1.tar.gz"
   ]
  },
  {
   "cell_type": "code",
   "execution_count": 26,
   "metadata": {
    "colab_type": "code"
   },
   "outputs": [
    {
     "name": "stdout",
     "output_type": "stream",
     "text": [
      "Deleted folder: aclImdb\\train\\unsup\n"
     ]
    }
   ],
   "source": [
    "\n",
    "#!rm -r aclImdb/train/unsup\n",
    "from pathlib import Path\n",
    "\n",
    "# Path to the folder\n",
    "folder_path = Path(\"aclImdb/train/unsup\")\n",
    "\n",
    "# Delete the folder if it exists\n",
    "if folder_path.exists() and folder_path.is_dir():\n",
    "    for item in folder_path.iterdir():\n",
    "        if item.is_dir():\n",
    "            shutil.rmtree(item)\n",
    "        else:\n",
    "            item.unlink()\n",
    "    folder_path.rmdir()\n",
    "    print(f\"Deleted folder: {folder_path}\")"
   ]
  },
  {
   "cell_type": "markdown",
   "metadata": {
    "colab_type": "text"
   },
   "source": [
    "**Preparing the data**"
   ]
  },
  {
   "cell_type": "code",
   "execution_count": 27,
   "metadata": {
    "colab_type": "code"
   },
   "outputs": [
    {
     "name": "stdout",
     "output_type": "stream",
     "text": [
      "Found 1000 files belonging to 2 classes.\n",
      "Found 10000 files belonging to 2 classes.\n",
      "Found 25000 files belonging to 2 classes.\n"
     ]
    }
   ],
   "source": [
    "import os, pathlib, random\n",
    "import shutil\n",
    "from tensorflow import keras\n",
    "batch_size = 32\n",
    "base_dir = pathlib.Path(\"aclImdb\")\n",
    "val_dir = base_dir / \"val\"\n",
    "train_dir = base_dir / \"train\"\n",
    "for category in (\"neg\", \"pos\"):\n",
    "    os.makedirs(val_dir / category)\n",
    "    #files = os.listdir(train_dir / category)\n",
    "    category_path = train_dir / category\n",
    "    files = os.listdir(category_path)\n",
    "    random.Random(1337).shuffle(files)\n",
    "\n",
    "    # Desired sample sizes\n",
    "    num_train_samples = 500\n",
    "    num_val_samples = 5000\n",
    "     # Determine the number of files per category for validation\n",
    "    #num_files_per_category = len(files)\n",
    "    #val_limit = min(num_val_samples // 2, num_files_per_category - num_train_samples)\n",
    "\n",
    "    # Select training and validation files\n",
    "    train_files = files[:num_train_samples]  # Limit training samples evenly per category\n",
    "    #val_files = files[-val_limit:]  # Use the last `val_limit` files for validation\n",
    "    val_files = files[-num_val_samples:]\n",
    "    \n",
    "    # Move validation files to validation directory\n",
    "    for fname in val_files:\n",
    "        source_path = category_path / fname\n",
    "        target_path = val_dir / category / fname\n",
    "        if source_path.exists():  # Check if the file exists before moving\n",
    "            shutil.move(source_path, target_path)\n",
    "\n",
    "    # Remove any excess files from the training directory\n",
    "    excess_files = files[num_train_samples:num_train_samples + (len(files) - len(val_files))]\n",
    "    for fname in excess_files:\n",
    "        file_path = category_path / fname\n",
    "        if file_path.exists():  # Check if the file exists before deleting\n",
    "            os.remove(file_path)\n",
    "\n",
    "train_ds = keras.utils.text_dataset_from_directory(\n",
    "    \"aclImdb/train\", batch_size=batch_size\n",
    ")\n",
    "val_ds = keras.utils.text_dataset_from_directory(\n",
    "    \"aclImdb/val\", batch_size=batch_size\n",
    ")\n",
    "test_ds = keras.utils.text_dataset_from_directory(\n",
    "    \"aclImdb/test\", batch_size=batch_size\n",
    ")\n",
    "text_only_train_ds = train_ds.map(lambda x, y: x)"
   ]
  },
  {
   "cell_type": "markdown",
   "metadata": {
    "colab_type": "text"
   },
   "source": [
    "**Preparing integer sequence datasets**"
   ]
  },
  {
   "cell_type": "code",
   "execution_count": 28,
   "metadata": {
    "colab_type": "code"
   },
   "outputs": [],
   "source": [
    "from tensorflow.keras import layers\n",
    "\n",
    "max_length = 150\n",
    "max_tokens = 10000\n",
    "text_vectorization = layers.TextVectorization(\n",
    "    max_tokens=max_tokens,\n",
    "    output_mode=\"int\",\n",
    "    output_sequence_length=max_length,\n",
    ")\n",
    "text_vectorization.adapt(text_only_train_ds)\n",
    "\n",
    "int_train_ds = train_ds.map(\n",
    "    lambda x, y: (text_vectorization(x), y),\n",
    "    num_parallel_calls=4)\n",
    "int_val_ds = val_ds.map(\n",
    "    lambda x, y: (text_vectorization(x), y),\n",
    "    num_parallel_calls=4)\n",
    "int_test_ds = test_ds.map(\n",
    "    lambda x, y: (text_vectorization(x), y),\n",
    "    num_parallel_calls=4)"
   ]
  },
  {
   "cell_type": "markdown",
   "metadata": {
    "colab_type": "text"
   },
   "source": [
    "**A sequence model built on one-hot encoded vector sequences**"
   ]
  },
  {
   "cell_type": "code",
   "execution_count": 29,
   "metadata": {
    "colab_type": "code"
   },
   "outputs": [
    {
     "name": "stdout",
     "output_type": "stream",
     "text": [
      "Model: \"model\"\n",
      "_________________________________________________________________\n",
      " Layer (type)                Output Shape              Param #   \n",
      "=================================================================\n",
      " input_1 (InputLayer)        [(None, None)]            0         \n",
      "                                                                 \n",
      " tf.one_hot (TFOpLambda)     (None, None, 10000)       0         \n",
      "                                                                 \n",
      " bidirectional (Bidirectiona  (None, 64)               2568448   \n",
      " l)                                                              \n",
      "                                                                 \n",
      " dropout (Dropout)           (None, 64)                0         \n",
      "                                                                 \n",
      " dense (Dense)               (None, 1)                 65        \n",
      "                                                                 \n",
      "=================================================================\n",
      "Total params: 2,568,513\n",
      "Trainable params: 2,568,513\n",
      "Non-trainable params: 0\n",
      "_________________________________________________________________\n"
     ]
    }
   ],
   "source": [
    "import tensorflow as tf\n",
    "inputs = keras.Input(shape=(None,), dtype=\"int64\")\n",
    "embedded = tf.one_hot(inputs, depth=max_tokens)\n",
    "x = layers.Bidirectional(layers.LSTM(32))(embedded)\n",
    "x = layers.Dropout(0.5)(x)\n",
    "outputs = layers.Dense(1, activation=\"sigmoid\")(x)\n",
    "model = keras.Model(inputs, outputs)\n",
    "model.compile(optimizer=\"rmsprop\",\n",
    "              loss=\"binary_crossentropy\",\n",
    "              metrics=[\"accuracy\"])\n",
    "model.summary()"
   ]
  },
  {
   "cell_type": "markdown",
   "metadata": {
    "colab_type": "text"
   },
   "source": [
    "**Training a first basic sequence model**"
   ]
  },
  {
   "cell_type": "code",
   "execution_count": 30,
   "metadata": {
    "colab_type": "code"
   },
   "outputs": [
    {
     "name": "stdout",
     "output_type": "stream",
     "text": [
      "Epoch 1/10\n",
      "32/32 [==============================] - 14s 272ms/step - loss: 0.6935 - accuracy: 0.5020 - val_loss: 0.6913 - val_accuracy: 0.5600\n",
      "Epoch 2/10\n",
      "32/32 [==============================] - 6s 197ms/step - loss: 0.6816 - accuracy: 0.6390 - val_loss: 0.6816 - val_accuracy: 0.5153\n",
      "Epoch 3/10\n",
      "32/32 [==============================] - 6s 195ms/step - loss: 0.5605 - accuracy: 0.7240 - val_loss: 1.0880 - val_accuracy: 0.5096\n",
      "Epoch 4/10\n",
      "32/32 [==============================] - 6s 195ms/step - loss: 0.4013 - accuracy: 0.8440 - val_loss: 0.5566 - val_accuracy: 0.7405\n",
      "Epoch 5/10\n",
      "32/32 [==============================] - 6s 196ms/step - loss: 0.2508 - accuracy: 0.9010 - val_loss: 0.5531 - val_accuracy: 0.7582\n",
      "Epoch 6/10\n",
      "32/32 [==============================] - 6s 196ms/step - loss: 0.1440 - accuracy: 0.9540 - val_loss: 0.6248 - val_accuracy: 0.7378\n",
      "Epoch 7/10\n",
      "32/32 [==============================] - 6s 196ms/step - loss: 0.0761 - accuracy: 0.9750 - val_loss: 1.2482 - val_accuracy: 0.6275\n",
      "Epoch 8/10\n",
      "32/32 [==============================] - 6s 198ms/step - loss: 0.0610 - accuracy: 0.9870 - val_loss: 0.6939 - val_accuracy: 0.7686\n",
      "Epoch 9/10\n",
      "32/32 [==============================] - 6s 200ms/step - loss: 0.1101 - accuracy: 0.9700 - val_loss: 0.5543 - val_accuracy: 0.7673\n",
      "Epoch 10/10\n",
      "32/32 [==============================] - 6s 202ms/step - loss: 0.0194 - accuracy: 0.9970 - val_loss: 0.8982 - val_accuracy: 0.7271\n",
      "782/782 [==============================] - 21s 26ms/step - loss: 0.5675 - accuracy: 0.7465\n",
      "Test acc: 0.746\n"
     ]
    }
   ],
   "source": [
    "callbacks = [\n",
    "    keras.callbacks.ModelCheckpoint(\"one_hot_bidir_lstm.keras\",\n",
    "                                    save_best_only=True)\n",
    "]\n",
    "model.fit(int_train_ds, validation_data=int_val_ds, epochs=10, callbacks=callbacks)\n",
    "model = keras.models.load_model(\"one_hot_bidir_lstm.keras\")\n",
    "print(f\"Test acc: {model.evaluate(int_test_ds)[1]:.3f}\")"
   ]
  },
  {
   "cell_type": "markdown",
   "metadata": {
    "colab_type": "text"
   },
   "source": [
    "#### Understanding word embeddings"
   ]
  },
  {
   "cell_type": "markdown",
   "metadata": {
    "colab_type": "text"
   },
   "source": [
    "#### Learning word embeddings with the Embedding layer"
   ]
  },
  {
   "cell_type": "markdown",
   "metadata": {
    "colab_type": "text"
   },
   "source": [
    "**Instantiating an `Embedding` layer**"
   ]
  },
  {
   "cell_type": "code",
   "execution_count": 31,
   "metadata": {
    "colab_type": "code"
   },
   "outputs": [],
   "source": [
    "embedding_layer = layers.Embedding(input_dim=max_tokens, output_dim=256)"
   ]
  },
  {
   "cell_type": "markdown",
   "metadata": {
    "colab_type": "text"
   },
   "source": [
    "**Model that uses an `Embedding` layer trained from scratch**"
   ]
  },
  {
   "cell_type": "code",
   "execution_count": 32,
   "metadata": {
    "colab_type": "code"
   },
   "outputs": [
    {
     "name": "stdout",
     "output_type": "stream",
     "text": [
      "Model: \"model_1\"\n",
      "_________________________________________________________________\n",
      " Layer (type)                Output Shape              Param #   \n",
      "=================================================================\n",
      " input_2 (InputLayer)        [(None, None)]            0         \n",
      "                                                                 \n",
      " embedding_1 (Embedding)     (None, None, 256)         2560000   \n",
      "                                                                 \n",
      " bidirectional_1 (Bidirectio  (None, 64)               73984     \n",
      " nal)                                                            \n",
      "                                                                 \n",
      " dropout_1 (Dropout)         (None, 64)                0         \n",
      "                                                                 \n",
      " dense_1 (Dense)             (None, 1)                 65        \n",
      "                                                                 \n",
      "=================================================================\n",
      "Total params: 2,634,049\n",
      "Trainable params: 2,634,049\n",
      "Non-trainable params: 0\n",
      "_________________________________________________________________\n",
      "Epoch 1/10\n",
      "32/32 [==============================] - 8s 182ms/step - loss: 0.6937 - accuracy: 0.5100 - val_loss: 0.6873 - val_accuracy: 0.5710\n",
      "Epoch 2/10\n",
      "32/32 [==============================] - 5s 161ms/step - loss: 0.5996 - accuracy: 0.7510 - val_loss: 0.5755 - val_accuracy: 0.7120\n",
      "Epoch 3/10\n",
      "32/32 [==============================] - 5s 157ms/step - loss: 0.3393 - accuracy: 0.8830 - val_loss: 0.5673 - val_accuracy: 0.7040\n",
      "Epoch 4/10\n",
      "32/32 [==============================] - 5s 153ms/step - loss: 0.1834 - accuracy: 0.9520 - val_loss: 0.5683 - val_accuracy: 0.7580\n",
      "Epoch 5/10\n",
      "32/32 [==============================] - 5s 156ms/step - loss: 0.0625 - accuracy: 0.9910 - val_loss: 0.6549 - val_accuracy: 0.7613\n",
      "Epoch 6/10\n",
      "32/32 [==============================] - 5s 165ms/step - loss: 0.0427 - accuracy: 0.9890 - val_loss: 0.8348 - val_accuracy: 0.7401\n",
      "Epoch 7/10\n",
      "32/32 [==============================] - 5s 165ms/step - loss: 0.0191 - accuracy: 0.9960 - val_loss: 0.9258 - val_accuracy: 0.7486\n",
      "Epoch 8/10\n",
      "32/32 [==============================] - 5s 170ms/step - loss: 0.0201 - accuracy: 0.9950 - val_loss: 1.0438 - val_accuracy: 0.7213\n",
      "Epoch 9/10\n",
      "32/32 [==============================] - 5s 168ms/step - loss: 0.0105 - accuracy: 0.9990 - val_loss: 0.9673 - val_accuracy: 0.7520\n",
      "Epoch 10/10\n",
      "32/32 [==============================] - 5s 166ms/step - loss: 0.0032 - accuracy: 1.0000 - val_loss: 1.1118 - val_accuracy: 0.7487\n",
      "782/782 [==============================] - 12s 15ms/step - loss: 0.5703 - accuracy: 0.6985\n",
      "Test acc: 0.699\n"
     ]
    }
   ],
   "source": [
    "inputs = keras.Input(shape=(None,), dtype=\"int64\")\n",
    "embedded = layers.Embedding(input_dim=max_tokens, output_dim=256)(inputs)\n",
    "x = layers.Bidirectional(layers.LSTM(32))(embedded)\n",
    "x = layers.Dropout(0.5)(x)\n",
    "outputs = layers.Dense(1, activation=\"sigmoid\")(x)\n",
    "model = keras.Model(inputs, outputs)\n",
    "model.compile(optimizer=\"rmsprop\",\n",
    "              loss=\"binary_crossentropy\",\n",
    "              metrics=[\"accuracy\"])\n",
    "model.summary()\n",
    "\n",
    "callbacks = [\n",
    "    keras.callbacks.ModelCheckpoint(\"embeddings_bidir_gru.keras\",\n",
    "                                    save_best_only=True)\n",
    "]\n",
    "model.fit(int_train_ds, validation_data=int_val_ds, epochs=10, callbacks=callbacks)\n",
    "model = keras.models.load_model(\"embeddings_bidir_gru.keras\")\n",
    "print(f\"Test acc: {model.evaluate(int_test_ds)[1]:.3f}\")"
   ]
  },
  {
   "cell_type": "markdown",
   "metadata": {
    "colab_type": "text"
   },
   "source": [
    "#### Understanding padding and masking"
   ]
  },
  {
   "cell_type": "markdown",
   "metadata": {
    "colab_type": "text"
   },
   "source": [
    "**Using an `Embedding` layer with masking enabled**"
   ]
  },
  {
   "cell_type": "code",
   "execution_count": 33,
   "metadata": {
    "colab_type": "code"
   },
   "outputs": [
    {
     "name": "stdout",
     "output_type": "stream",
     "text": [
      "Model: \"model_2\"\n",
      "_________________________________________________________________\n",
      " Layer (type)                Output Shape              Param #   \n",
      "=================================================================\n",
      " input_3 (InputLayer)        [(None, None)]            0         \n",
      "                                                                 \n",
      " embedding_2 (Embedding)     (None, None, 256)         2560000   \n",
      "                                                                 \n",
      " bidirectional_2 (Bidirectio  (None, 64)               73984     \n",
      " nal)                                                            \n",
      "                                                                 \n",
      " dropout_2 (Dropout)         (None, 64)                0         \n",
      "                                                                 \n",
      " dense_2 (Dense)             (None, 1)                 65        \n",
      "                                                                 \n",
      "=================================================================\n",
      "Total params: 2,634,049\n",
      "Trainable params: 2,634,049\n",
      "Non-trainable params: 0\n",
      "_________________________________________________________________\n",
      "Epoch 1/10\n",
      "32/32 [==============================] - 13s 236ms/step - loss: 0.6910 - accuracy: 0.5540 - val_loss: 0.6874 - val_accuracy: 0.5832\n",
      "Epoch 2/10\n",
      "32/32 [==============================] - 6s 183ms/step - loss: 0.6236 - accuracy: 0.7430 - val_loss: 0.6184 - val_accuracy: 0.6619\n",
      "Epoch 3/10\n",
      "32/32 [==============================] - 6s 182ms/step - loss: 0.3322 - accuracy: 0.8900 - val_loss: 0.7792 - val_accuracy: 0.6661\n",
      "Epoch 4/10\n",
      "32/32 [==============================] - 6s 182ms/step - loss: 0.1274 - accuracy: 0.9640 - val_loss: 0.5509 - val_accuracy: 0.7707\n",
      "Epoch 5/10\n",
      "32/32 [==============================] - 6s 181ms/step - loss: 0.0540 - accuracy: 0.9840 - val_loss: 0.8110 - val_accuracy: 0.7282\n",
      "Epoch 6/10\n",
      "32/32 [==============================] - 6s 186ms/step - loss: 0.0129 - accuracy: 0.9980 - val_loss: 0.8585 - val_accuracy: 0.7567\n",
      "Epoch 7/10\n",
      "32/32 [==============================] - 6s 187ms/step - loss: 0.0124 - accuracy: 0.9970 - val_loss: 0.9145 - val_accuracy: 0.7678\n",
      "Epoch 8/10\n",
      "32/32 [==============================] - 6s 184ms/step - loss: 0.0020 - accuracy: 1.0000 - val_loss: 1.0524 - val_accuracy: 0.7586\n",
      "Epoch 9/10\n",
      "32/32 [==============================] - 6s 177ms/step - loss: 0.0353 - accuracy: 0.9800 - val_loss: 1.0358 - val_accuracy: 0.7124\n",
      "Epoch 10/10\n",
      "32/32 [==============================] - 5s 173ms/step - loss: 0.0169 - accuracy: 0.9920 - val_loss: 0.7602 - val_accuracy: 0.7621\n",
      "782/782 [==============================] - 15s 16ms/step - loss: 0.5576 - accuracy: 0.7658\n",
      "Test acc: 0.766\n"
     ]
    }
   ],
   "source": [
    "inputs = keras.Input(shape=(None,), dtype=\"int64\")\n",
    "embedded = layers.Embedding(\n",
    "    input_dim=max_tokens, output_dim=256, mask_zero=True)(inputs)\n",
    "x = layers.Bidirectional(layers.LSTM(32))(embedded)\n",
    "x = layers.Dropout(0.5)(x)\n",
    "outputs = layers.Dense(1, activation=\"sigmoid\")(x)\n",
    "model = keras.Model(inputs, outputs)\n",
    "model.compile(optimizer=\"rmsprop\",\n",
    "              loss=\"binary_crossentropy\",\n",
    "              metrics=[\"accuracy\"])\n",
    "model.summary()\n",
    "\n",
    "callbacks = [\n",
    "    keras.callbacks.ModelCheckpoint(\"embeddings_bidir_gru_with_masking.keras\",\n",
    "                                    save_best_only=True)\n",
    "]\n",
    "model.fit(int_train_ds, validation_data=int_val_ds, epochs=10, callbacks=callbacks)\n",
    "model = keras.models.load_model(\"embeddings_bidir_gru_with_masking.keras\")\n",
    "print(f\"Test acc: {model.evaluate(int_test_ds)[1]:.3f}\")"
   ]
  },
  {
   "cell_type": "markdown",
   "metadata": {
    "colab_type": "text"
   },
   "source": [
    "#### Using pretrained word embeddings"
   ]
  },
  {
   "cell_type": "code",
   "execution_count": 27,
   "metadata": {},
   "outputs": [
    {
     "name": "stdout",
     "output_type": "stream",
     "text": [
      "Collecting unzip\n",
      "  Downloading unzip-1.0.0.tar.gz (704 bytes)\n",
      "  Preparing metadata (setup.py): started\n",
      "  Preparing metadata (setup.py): finished with status 'done'\n",
      "Building wheels for collected packages: unzip\n",
      "  Building wheel for unzip (setup.py): started\n",
      "  Building wheel for unzip (setup.py): finished with status 'done'\n",
      "  Created wheel for unzip: filename=unzip-1.0.0-py3-none-any.whl size=1289 sha256=443001d0d0366331a73971511f3341b8100a5c3841a33de83517662382ef8379\n",
      "  Stored in directory: c:\\users\\ola\\appdata\\local\\pip\\cache\\wheels\\80\\dc\\7a\\f8af45bc239e7933509183f038ea8d46f3610aab82b35369f4\n",
      "Successfully built unzip\n",
      "Installing collected packages: unzip\n",
      "Successfully installed unzip-1.0.0\n"
     ]
    }
   ],
   "source": [
    "!pip install unzip"
   ]
  },
  {
   "cell_type": "code",
   "execution_count": 33,
   "metadata": {
    "colab_type": "code"
   },
   "outputs": [
    {
     "name": "stderr",
     "output_type": "stream",
     "text": [
      "'wget' is not recognized as an internal or external command,\n",
      "operable program or batch file.\n",
      "'unzip' is not recognized as an internal or external command,\n",
      "operable program or batch file.\n"
     ]
    }
   ],
   "source": [
    "import wget\n",
    "import unzip\n",
    "!wget http://nlp.stanford.edu/data/glove.6B.zip\n",
    "!unzip -q glove.6B.zip"
   ]
  },
  {
   "cell_type": "markdown",
   "metadata": {
    "colab_type": "text"
   },
   "source": [
    "**Parsing the GloVe word-embeddings file**"
   ]
  },
  {
   "cell_type": "code",
   "execution_count": 34,
   "metadata": {
    "colab_type": "code"
   },
   "outputs": [
    {
     "name": "stdout",
     "output_type": "stream",
     "text": [
      "Found 400000 word vectors.\n"
     ]
    }
   ],
   "source": [
    "import numpy as np\n",
    "path_to_glove_file = \"glove.6B/glove.6B.100d.txt\"\n",
    "\n",
    "embeddings_index = {}\n",
    "with open(path_to_glove_file) as f:\n",
    "    for line in f:\n",
    "        word, coefs = line.split(maxsplit=1)\n",
    "        coefs = np.fromstring(coefs, \"f\", sep=\" \")\n",
    "        embeddings_index[word] = coefs\n",
    "\n",
    "print(f\"Found {len(embeddings_index)} word vectors.\")"
   ]
  },
  {
   "cell_type": "markdown",
   "metadata": {
    "colab_type": "text"
   },
   "source": [
    "**Preparing the GloVe word-embeddings matrix**"
   ]
  },
  {
   "cell_type": "code",
   "execution_count": 35,
   "metadata": {
    "colab_type": "code"
   },
   "outputs": [],
   "source": [
    "embedding_dim = 100\n",
    "\n",
    "vocabulary = text_vectorization.get_vocabulary()\n",
    "word_index = dict(zip(vocabulary, range(len(vocabulary))))\n",
    "\n",
    "embedding_matrix = np.zeros((max_tokens, embedding_dim))\n",
    "for word, i in word_index.items():\n",
    "    if i < max_tokens:\n",
    "        embedding_vector = embeddings_index.get(word)\n",
    "    if embedding_vector is not None:\n",
    "        embedding_matrix[i] = embedding_vector"
   ]
  },
  {
   "cell_type": "code",
   "execution_count": 36,
   "metadata": {
    "colab_type": "code"
   },
   "outputs": [],
   "source": [
    "embedding_layer = layers.Embedding(\n",
    "    max_tokens,\n",
    "    embedding_dim,\n",
    "    embeddings_initializer=keras.initializers.Constant(embedding_matrix),\n",
    "    trainable=False,\n",
    "    mask_zero=True,\n",
    ")"
   ]
  },
  {
   "cell_type": "markdown",
   "metadata": {
    "colab_type": "text"
   },
   "source": [
    "**Model that uses a pretrained Embedding layer**"
   ]
  },
  {
   "cell_type": "code",
   "execution_count": 37,
   "metadata": {
    "colab_type": "code"
   },
   "outputs": [
    {
     "name": "stdout",
     "output_type": "stream",
     "text": [
      "Model: \"model_3\"\n",
      "_________________________________________________________________\n",
      " Layer (type)                Output Shape              Param #   \n",
      "=================================================================\n",
      " input_4 (InputLayer)        [(None, None)]            0         \n",
      "                                                                 \n",
      " embedding_3 (Embedding)     (None, None, 100)         1000000   \n",
      "                                                                 \n",
      " bidirectional_3 (Bidirectio  (None, 64)               34048     \n",
      " nal)                                                            \n",
      "                                                                 \n",
      " dropout_3 (Dropout)         (None, 64)                0         \n",
      "                                                                 \n",
      " dense_3 (Dense)             (None, 1)                 65        \n",
      "                                                                 \n",
      "=================================================================\n",
      "Total params: 1,034,113\n",
      "Trainable params: 34,113\n",
      "Non-trainable params: 1,000,000\n",
      "_________________________________________________________________\n",
      "Epoch 1/10\n",
      "32/32 [==============================] - 13s 241ms/step - loss: 0.7077 - accuracy: 0.5110 - val_loss: 0.6836 - val_accuracy: 0.5635\n",
      "Epoch 2/10\n",
      "32/32 [==============================] - 5s 172ms/step - loss: 0.6798 - accuracy: 0.5800 - val_loss: 0.6712 - val_accuracy: 0.5929\n",
      "Epoch 3/10\n",
      "32/32 [==============================] - 6s 194ms/step - loss: 0.6601 - accuracy: 0.5910 - val_loss: 0.6559 - val_accuracy: 0.6181\n",
      "Epoch 4/10\n",
      "32/32 [==============================] - 5s 163ms/step - loss: 0.6305 - accuracy: 0.6560 - val_loss: 0.7153 - val_accuracy: 0.5410\n",
      "Epoch 5/10\n",
      "32/32 [==============================] - 6s 190ms/step - loss: 0.6137 - accuracy: 0.6520 - val_loss: 0.6300 - val_accuracy: 0.6436\n",
      "Epoch 6/10\n",
      "32/32 [==============================] - 5s 174ms/step - loss: 0.5904 - accuracy: 0.7040 - val_loss: 0.6185 - val_accuracy: 0.6559\n",
      "Epoch 7/10\n",
      "32/32 [==============================] - 5s 173ms/step - loss: 0.5850 - accuracy: 0.7180 - val_loss: 0.6023 - val_accuracy: 0.6728\n",
      "Epoch 8/10\n",
      "32/32 [==============================] - 5s 152ms/step - loss: 0.5547 - accuracy: 0.7360 - val_loss: 0.6411 - val_accuracy: 0.6287\n",
      "Epoch 9/10\n",
      "32/32 [==============================] - 5s 152ms/step - loss: 0.5471 - accuracy: 0.7250 - val_loss: 0.6167 - val_accuracy: 0.6754\n",
      "Epoch 10/10\n",
      "32/32 [==============================] - 5s 173ms/step - loss: 0.5353 - accuracy: 0.7350 - val_loss: 0.5787 - val_accuracy: 0.6951\n",
      "782/782 [==============================] - 12s 14ms/step - loss: 0.5847 - accuracy: 0.6906\n",
      "Test acc: 0.691\n"
     ]
    }
   ],
   "source": [
    "inputs = keras.Input(shape=(None,), dtype=\"int64\")\n",
    "embedded = embedding_layer(inputs)\n",
    "x = layers.Bidirectional(layers.LSTM(32))(embedded)\n",
    "x = layers.Dropout(0.5)(x)\n",
    "outputs = layers.Dense(1, activation=\"sigmoid\")(x)\n",
    "model = keras.Model(inputs, outputs)\n",
    "model.compile(optimizer=\"rmsprop\",\n",
    "              loss=\"binary_crossentropy\",\n",
    "              metrics=[\"accuracy\"])\n",
    "model.summary()\n",
    "\n",
    "callbacks = [\n",
    "    keras.callbacks.ModelCheckpoint(\"glove_embeddings_sequence_model.keras\",\n",
    "                                    save_best_only=True)\n",
    "]\n",
    "model.fit(int_train_ds, validation_data=int_val_ds, epochs=10, callbacks=callbacks)\n",
    "model = keras.models.load_model(\"glove_embeddings_sequence_model.keras\")\n",
    "print(f\"Test acc: {model.evaluate(int_test_ds)[1]:.3f}\")"
   ]
  }
 ],
 "metadata": {
  "colab": {
   "collapsed_sections": [],
   "name": "chapter11_part02_sequence-models.i",
   "private_outputs": false,
   "provenance": [],
   "toc_visible": true
  },
  "kernelspec": {
   "display_name": "env-tensorflow10",
   "language": "python",
   "name": "python3"
  },
  "language_info": {
   "codemirror_mode": {
    "name": "ipython",
    "version": 3
   },
   "file_extension": ".py",
   "mimetype": "text/x-python",
   "name": "python",
   "nbconvert_exporter": "python",
   "pygments_lexer": "ipython3",
   "version": "3.10.15"
  }
 },
 "nbformat": 4,
 "nbformat_minor": 0
}
