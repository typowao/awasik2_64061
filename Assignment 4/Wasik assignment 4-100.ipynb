{
 "cells": [
  {
   "cell_type": "markdown",
   "metadata": {
    "colab_type": "text"
   },
   "source": [
    "This is a companion notebook for the book [Deep Learning with Python, Second Edition](https://www.manning.com/books/deep-learning-with-python-second-edition?a_aid=keras&a_bid=76564dff). For readability, it only contains runnable code blocks and section titles, and omits everything else in the book: text paragraphs, figures, and pseudocode.\n",
    "\n",
    "**If you want to be able to follow what's going on, I recommend reading the notebook side by side with your copy of the book.**\n",
    "\n",
    "This notebook was generated for TensorFlow 2.6."
   ]
  },
  {
   "cell_type": "markdown",
   "metadata": {
    "colab_type": "text"
   },
   "source": [
    "### Processing words as a sequence: The sequence model approach"
   ]
  },
  {
   "cell_type": "markdown",
   "metadata": {
    "colab_type": "text"
   },
   "source": [
    "#### A first practical example"
   ]
  },
  {
   "cell_type": "markdown",
   "metadata": {
    "colab_type": "text"
   },
   "source": [
    "**Downloading the data**"
   ]
  },
  {
   "cell_type": "code",
   "execution_count": 4,
   "metadata": {},
   "outputs": [
    {
     "name": "stderr",
     "output_type": "stream",
     "text": [
      "  % Total    % Received % Xferd  Average Speed   Time    Time     Time  Current\n",
      "                                 Dload  Upload   Total   Spent    Left  Speed\n",
      "\n",
      "  0     0    0     0    0     0      0      0 --:--:-- --:--:-- --:--:--     0\n",
      "  0 80.2M    0  112k    0     0   148k      0  0:09:12 --:--:--  0:09:12  149k\n",
      "  1 80.2M    1 1328k    0     0   767k      0  0:01:46  0:00:01  0:01:45  768k\n",
      "  3 80.2M    3 3264k    0     0  1196k      0  0:01:08  0:00:02  0:01:06 1197k\n",
      "  6 80.2M    6 5744k    0     0  1539k      0  0:00:53  0:00:03  0:00:50 1540k\n",
      " 10 80.2M   10 8592k    0     0  1813k      0  0:00:45  0:00:04  0:00:41 1814k\n",
      " 14 80.2M   14 11.3M    0     0  2019k      0  0:00:40  0:00:05  0:00:35 2302k\n",
      " 17 80.2M   17 14.2M    0     0  2149k      0  0:00:38  0:00:06  0:00:32 2621k\n",
      " 22 80.2M   22 18.2M    0     0  2409k      0  0:00:34  0:00:07  0:00:27 3071k\n",
      " 27 80.2M   27 22.4M    0     0  2624k      0  0:00:31  0:00:08  0:00:23 3430k\n",
      " 33 80.2M   33 26.5M    0     0  2789k      0  0:00:29  0:00:09  0:00:20 3714k\n",
      " 40 80.2M   40 32.3M    0     0  3082k      0  0:00:26  0:00:10  0:00:16 4304k\n",
      " 47 80.2M   47 38.1M    0     0  3319k      0  0:00:24  0:00:11  0:00:13 4910k\n",
      " 55 80.2M   55 44.8M    0     0  3609k      0  0:00:22  0:00:12  0:00:10 5468k\n",
      " 65 80.2M   65 52.2M    0     0  3894k      0  0:00:21  0:00:13  0:00:08 6123k\n",
      " 73 80.2M   73 58.9M    0     0  4092k      0  0:00:20  0:00:14  0:00:06 6628k\n",
      " 81 80.2M   81 65.6M    0     0  4269k      0  0:00:19  0:00:15  0:00:04 6816k\n",
      " 90 80.2M   90 72.5M    0     0  4437k      0  0:00:18  0:00:16  0:00:02 7095k\n",
      " 99 80.2M   99 79.5M    0     0  4593k      0  0:00:17  0:00:17 --:--:-- 7100k\n",
      "100 80.2M  100 80.2M    0     0  4606k      0  0:00:17  0:00:17 --:--:-- 6994k\n"
     ]
    }
   ],
   "source": [
    "!curl -O https://ai.stanford.edu/~amaas/data/sentiment/aclImdb_v1.tar.gz\n",
    "!tar -xf aclImdb_v1.tar.gz"
   ]
  },
  {
   "cell_type": "code",
   "execution_count": 5,
   "metadata": {
    "colab_type": "code"
   },
   "outputs": [
    {
     "name": "stdout",
     "output_type": "stream",
     "text": [
      "Deleted folder: aclImdb\\train\\unsup\n"
     ]
    }
   ],
   "source": [
    "\n",
    "#!rm -r aclImdb/train/unsup\n",
    "from pathlib import Path\n",
    "\n",
    "# Path to the folder\n",
    "folder_path = Path(\"aclImdb/train/unsup\")\n",
    "\n",
    "# Delete the folder if it exists\n",
    "if folder_path.exists() and folder_path.is_dir():\n",
    "    for item in folder_path.iterdir():\n",
    "        if item.is_dir():\n",
    "            shutil.rmtree(item)\n",
    "        else:\n",
    "            item.unlink()\n",
    "    folder_path.rmdir()\n",
    "    print(f\"Deleted folder: {folder_path}\")"
   ]
  },
  {
   "cell_type": "markdown",
   "metadata": {
    "colab_type": "text"
   },
   "source": [
    "**Preparing the data**"
   ]
  },
  {
   "cell_type": "code",
   "execution_count": 6,
   "metadata": {
    "colab_type": "code"
   },
   "outputs": [
    {
     "name": "stdout",
     "output_type": "stream",
     "text": [
      "Found 100 files belonging to 2 classes.\n",
      "Found 10000 files belonging to 2 classes.\n",
      "Found 25000 files belonging to 2 classes.\n"
     ]
    }
   ],
   "source": [
    "import os, pathlib, random\n",
    "import shutil\n",
    "from tensorflow import keras\n",
    "batch_size = 32\n",
    "base_dir = pathlib.Path(\"aclImdb\")\n",
    "val_dir = base_dir / \"val\"\n",
    "train_dir = base_dir / \"train\"\n",
    "for category in (\"neg\", \"pos\"):\n",
    "    os.makedirs(val_dir / category)\n",
    "    #files = os.listdir(train_dir / category)\n",
    "    category_path = train_dir / category\n",
    "    files = os.listdir(category_path)\n",
    "    random.Random(1337).shuffle(files)\n",
    "\n",
    "    # Desired sample sizes\n",
    "    num_train_samples = 50\n",
    "    num_val_samples = 5000\n",
    "     # Determine the number of files per category for validation\n",
    "    #num_files_per_category = len(files)\n",
    "    #val_limit = min(num_val_samples // 2, num_files_per_category - num_train_samples)\n",
    "\n",
    "    # Select training and validation files\n",
    "    train_files = files[:num_train_samples]  # Limit training samples evenly per category\n",
    "    #val_files = files[-val_limit:]  # Use the last `val_limit` files for validation\n",
    "    val_files = files[-num_val_samples:]\n",
    "    \n",
    "    # Move validation files to validation directory\n",
    "    for fname in val_files:\n",
    "        source_path = category_path / fname\n",
    "        target_path = val_dir / category / fname\n",
    "        if source_path.exists():  # Check if the file exists before moving\n",
    "            shutil.move(source_path, target_path)\n",
    "\n",
    "    # Remove any excess files from the training directory\n",
    "    excess_files = files[num_train_samples:num_train_samples + (len(files) - len(val_files))]\n",
    "    for fname in excess_files:\n",
    "        file_path = category_path / fname\n",
    "        if file_path.exists():  # Check if the file exists before deleting\n",
    "            os.remove(file_path)\n",
    "\n",
    "train_ds = keras.utils.text_dataset_from_directory(\n",
    "    \"aclImdb/train\", batch_size=batch_size\n",
    ")\n",
    "val_ds = keras.utils.text_dataset_from_directory(\n",
    "    \"aclImdb/val\", batch_size=batch_size\n",
    ")\n",
    "test_ds = keras.utils.text_dataset_from_directory(\n",
    "    \"aclImdb/test\", batch_size=batch_size\n",
    ")\n",
    "text_only_train_ds = train_ds.map(lambda x, y: x)"
   ]
  },
  {
   "cell_type": "markdown",
   "metadata": {
    "colab_type": "text"
   },
   "source": [
    "**Preparing integer sequence datasets**"
   ]
  },
  {
   "cell_type": "code",
   "execution_count": 7,
   "metadata": {
    "colab_type": "code"
   },
   "outputs": [],
   "source": [
    "from tensorflow.keras import layers\n",
    "\n",
    "max_length = 150\n",
    "max_tokens = 10000\n",
    "text_vectorization = layers.TextVectorization(\n",
    "    max_tokens=max_tokens,\n",
    "    output_mode=\"int\",\n",
    "    output_sequence_length=max_length,\n",
    ")\n",
    "text_vectorization.adapt(text_only_train_ds)\n",
    "\n",
    "int_train_ds = train_ds.map(\n",
    "    lambda x, y: (text_vectorization(x), y),\n",
    "    num_parallel_calls=4)\n",
    "int_val_ds = val_ds.map(\n",
    "    lambda x, y: (text_vectorization(x), y),\n",
    "    num_parallel_calls=4)\n",
    "int_test_ds = test_ds.map(\n",
    "    lambda x, y: (text_vectorization(x), y),\n",
    "    num_parallel_calls=4)"
   ]
  },
  {
   "cell_type": "markdown",
   "metadata": {
    "colab_type": "text"
   },
   "source": [
    "**A sequence model built on one-hot encoded vector sequences**"
   ]
  },
  {
   "cell_type": "code",
   "execution_count": 8,
   "metadata": {
    "colab_type": "code"
   },
   "outputs": [
    {
     "name": "stdout",
     "output_type": "stream",
     "text": [
      "Model: \"model\"\n",
      "_________________________________________________________________\n",
      " Layer (type)                Output Shape              Param #   \n",
      "=================================================================\n",
      " input_1 (InputLayer)        [(None, None)]            0         \n",
      "                                                                 \n",
      " tf.one_hot (TFOpLambda)     (None, None, 10000)       0         \n",
      "                                                                 \n",
      " bidirectional (Bidirectiona  (None, 64)               2568448   \n",
      " l)                                                              \n",
      "                                                                 \n",
      " dropout (Dropout)           (None, 64)                0         \n",
      "                                                                 \n",
      " dense (Dense)               (None, 1)                 65        \n",
      "                                                                 \n",
      "=================================================================\n",
      "Total params: 2,568,513\n",
      "Trainable params: 2,568,513\n",
      "Non-trainable params: 0\n",
      "_________________________________________________________________\n"
     ]
    }
   ],
   "source": [
    "import tensorflow as tf\n",
    "inputs = keras.Input(shape=(None,), dtype=\"int64\")\n",
    "embedded = tf.one_hot(inputs, depth=max_tokens)\n",
    "x = layers.Bidirectional(layers.LSTM(32))(embedded)\n",
    "x = layers.Dropout(0.5)(x)\n",
    "outputs = layers.Dense(1, activation=\"sigmoid\")(x)\n",
    "model = keras.Model(inputs, outputs)\n",
    "model.compile(optimizer=\"rmsprop\",\n",
    "              loss=\"binary_crossentropy\",\n",
    "              metrics=[\"accuracy\"])\n",
    "model.summary()"
   ]
  },
  {
   "cell_type": "markdown",
   "metadata": {
    "colab_type": "text"
   },
   "source": [
    "**Training a first basic sequence model**"
   ]
  },
  {
   "cell_type": "code",
   "execution_count": 9,
   "metadata": {
    "colab_type": "code"
   },
   "outputs": [
    {
     "name": "stdout",
     "output_type": "stream",
     "text": [
      "Epoch 1/10\n",
      "4/4 [==============================] - 13s 3s/step - loss: 0.6950 - accuracy: 0.4100 - val_loss: 0.6930 - val_accuracy: 0.5009\n",
      "Epoch 2/10\n",
      "4/4 [==============================] - 6s 2s/step - loss: 0.6873 - accuracy: 0.6300 - val_loss: 0.6932 - val_accuracy: 0.5000\n",
      "Epoch 3/10\n",
      "4/4 [==============================] - 6s 2s/step - loss: 0.6819 - accuracy: 0.5600 - val_loss: 0.6930 - val_accuracy: 0.5001\n",
      "Epoch 4/10\n",
      "4/4 [==============================] - 6s 2s/step - loss: 0.6742 - accuracy: 0.6800 - val_loss: 0.6922 - val_accuracy: 0.5314\n",
      "Epoch 5/10\n",
      "4/4 [==============================] - 6s 2s/step - loss: 0.6610 - accuracy: 0.9100 - val_loss: 0.6919 - val_accuracy: 0.5028\n",
      "Epoch 6/10\n",
      "4/4 [==============================] - 6s 2s/step - loss: 0.6923 - accuracy: 0.7000 - val_loss: 0.7720 - val_accuracy: 0.5000\n",
      "Epoch 7/10\n",
      "4/4 [==============================] - 6s 2s/step - loss: 0.5764 - accuracy: 0.7800 - val_loss: 0.7105 - val_accuracy: 0.5604\n",
      "Epoch 8/10\n",
      "4/4 [==============================] - 6s 2s/step - loss: 0.5146 - accuracy: 0.8900 - val_loss: 0.7044 - val_accuracy: 0.5866\n",
      "Epoch 9/10\n",
      "4/4 [==============================] - 6s 2s/step - loss: 0.4749 - accuracy: 0.7600 - val_loss: 0.8064 - val_accuracy: 0.5878\n",
      "Epoch 10/10\n",
      "4/4 [==============================] - 6s 2s/step - loss: 0.4154 - accuracy: 0.8700 - val_loss: 0.8269 - val_accuracy: 0.5820\n",
      "782/782 [==============================] - 18s 23ms/step - loss: 0.6921 - accuracy: 0.5034\n",
      "Test acc: 0.503\n"
     ]
    }
   ],
   "source": [
    "callbacks = [\n",
    "    keras.callbacks.ModelCheckpoint(\"one_hot_bidir_lstm.keras\",\n",
    "                                    save_best_only=True)\n",
    "]\n",
    "model.fit(int_train_ds, validation_data=int_val_ds, epochs=10, callbacks=callbacks)\n",
    "model = keras.models.load_model(\"one_hot_bidir_lstm.keras\")\n",
    "print(f\"Test acc: {model.evaluate(int_test_ds)[1]:.3f}\")"
   ]
  },
  {
   "cell_type": "markdown",
   "metadata": {
    "colab_type": "text"
   },
   "source": [
    "#### Understanding word embeddings"
   ]
  },
  {
   "cell_type": "markdown",
   "metadata": {
    "colab_type": "text"
   },
   "source": [
    "#### Learning word embeddings with the Embedding layer"
   ]
  },
  {
   "cell_type": "markdown",
   "metadata": {
    "colab_type": "text"
   },
   "source": [
    "**Instantiating an `Embedding` layer**"
   ]
  },
  {
   "cell_type": "code",
   "execution_count": 10,
   "metadata": {
    "colab_type": "code"
   },
   "outputs": [],
   "source": [
    "embedding_layer = layers.Embedding(input_dim=max_tokens, output_dim=256)"
   ]
  },
  {
   "cell_type": "markdown",
   "metadata": {
    "colab_type": "text"
   },
   "source": [
    "**Model that uses an `Embedding` layer trained from scratch**"
   ]
  },
  {
   "cell_type": "code",
   "execution_count": 11,
   "metadata": {
    "colab_type": "code"
   },
   "outputs": [
    {
     "name": "stdout",
     "output_type": "stream",
     "text": [
      "Model: \"model_1\"\n",
      "_________________________________________________________________\n",
      " Layer (type)                Output Shape              Param #   \n",
      "=================================================================\n",
      " input_2 (InputLayer)        [(None, None)]            0         \n",
      "                                                                 \n",
      " embedding_1 (Embedding)     (None, None, 256)         2560000   \n",
      "                                                                 \n",
      " bidirectional_1 (Bidirectio  (None, 64)               73984     \n",
      " nal)                                                            \n",
      "                                                                 \n",
      " dropout_1 (Dropout)         (None, 64)                0         \n",
      "                                                                 \n",
      " dense_1 (Dense)             (None, 1)                 65        \n",
      "                                                                 \n",
      "=================================================================\n",
      "Total params: 2,634,049\n",
      "Trainable params: 2,634,049\n",
      "Non-trainable params: 0\n",
      "_________________________________________________________________\n",
      "Epoch 1/10\n",
      "4/4 [==============================] - 7s 1s/step - loss: 0.6947 - accuracy: 0.5300 - val_loss: 0.6950 - val_accuracy: 0.4968\n",
      "Epoch 2/10\n",
      "4/4 [==============================] - 4s 1s/step - loss: 0.6721 - accuracy: 0.7000 - val_loss: 0.6926 - val_accuracy: 0.5026\n",
      "Epoch 3/10\n",
      "4/4 [==============================] - 4s 1s/step - loss: 0.6444 - accuracy: 0.8700 - val_loss: 0.6919 - val_accuracy: 0.5203\n",
      "Epoch 4/10\n",
      "4/4 [==============================] - 4s 1s/step - loss: 0.5871 - accuracy: 0.8900 - val_loss: 0.6889 - val_accuracy: 0.5197\n",
      "Epoch 5/10\n",
      "4/4 [==============================] - 4s 1s/step - loss: 0.4622 - accuracy: 0.9500 - val_loss: 0.6796 - val_accuracy: 0.5743\n",
      "Epoch 6/10\n",
      "4/4 [==============================] - 4s 1s/step - loss: 0.3168 - accuracy: 1.0000 - val_loss: 0.8176 - val_accuracy: 0.5814\n",
      "Epoch 7/10\n",
      "4/4 [==============================] - 4s 1s/step - loss: 0.2344 - accuracy: 0.9900 - val_loss: 0.8261 - val_accuracy: 0.6057\n",
      "Epoch 8/10\n",
      "4/4 [==============================] - 4s 1s/step - loss: 0.1746 - accuracy: 0.9800 - val_loss: 0.7338 - val_accuracy: 0.6286\n",
      "Epoch 9/10\n",
      "4/4 [==============================] - 4s 1s/step - loss: 0.1081 - accuracy: 1.0000 - val_loss: 0.9910 - val_accuracy: 0.5554\n",
      "Epoch 10/10\n",
      "4/4 [==============================] - 4s 1s/step - loss: 0.1701 - accuracy: 0.9600 - val_loss: 0.8197 - val_accuracy: 0.6084\n",
      "782/782 [==============================] - 10s 12ms/step - loss: 0.6825 - accuracy: 0.5557\n",
      "Test acc: 0.556\n"
     ]
    }
   ],
   "source": [
    "inputs = keras.Input(shape=(None,), dtype=\"int64\")\n",
    "embedded = layers.Embedding(input_dim=max_tokens, output_dim=256)(inputs)\n",
    "x = layers.Bidirectional(layers.LSTM(32))(embedded)\n",
    "x = layers.Dropout(0.5)(x)\n",
    "outputs = layers.Dense(1, activation=\"sigmoid\")(x)\n",
    "model = keras.Model(inputs, outputs)\n",
    "model.compile(optimizer=\"rmsprop\",\n",
    "              loss=\"binary_crossentropy\",\n",
    "              metrics=[\"accuracy\"])\n",
    "model.summary()\n",
    "\n",
    "callbacks = [\n",
    "    keras.callbacks.ModelCheckpoint(\"embeddings_bidir_gru.keras\",\n",
    "                                    save_best_only=True)\n",
    "]\n",
    "model.fit(int_train_ds, validation_data=int_val_ds, epochs=10, callbacks=callbacks)\n",
    "model = keras.models.load_model(\"embeddings_bidir_gru.keras\")\n",
    "print(f\"Test acc: {model.evaluate(int_test_ds)[1]:.3f}\")"
   ]
  },
  {
   "cell_type": "markdown",
   "metadata": {
    "colab_type": "text"
   },
   "source": [
    "#### Understanding padding and masking"
   ]
  },
  {
   "cell_type": "markdown",
   "metadata": {
    "colab_type": "text"
   },
   "source": [
    "**Using an `Embedding` layer with masking enabled**"
   ]
  },
  {
   "cell_type": "code",
   "execution_count": 12,
   "metadata": {
    "colab_type": "code"
   },
   "outputs": [
    {
     "name": "stdout",
     "output_type": "stream",
     "text": [
      "Model: \"model_2\"\n",
      "_________________________________________________________________\n",
      " Layer (type)                Output Shape              Param #   \n",
      "=================================================================\n",
      " input_3 (InputLayer)        [(None, None)]            0         \n",
      "                                                                 \n",
      " embedding_2 (Embedding)     (None, None, 256)         2560000   \n",
      "                                                                 \n",
      " bidirectional_2 (Bidirectio  (None, 64)               73984     \n",
      " nal)                                                            \n",
      "                                                                 \n",
      " dropout_2 (Dropout)         (None, 64)                0         \n",
      "                                                                 \n",
      " dense_2 (Dense)             (None, 1)                 65        \n",
      "                                                                 \n",
      "=================================================================\n",
      "Total params: 2,634,049\n",
      "Trainable params: 2,634,049\n",
      "Non-trainable params: 0\n",
      "_________________________________________________________________\n",
      "Epoch 1/10\n",
      "4/4 [==============================] - 12s 2s/step - loss: 0.6964 - accuracy: 0.5200 - val_loss: 0.6925 - val_accuracy: 0.5140\n",
      "Epoch 2/10\n",
      "4/4 [==============================] - 5s 2s/step - loss: 0.6667 - accuracy: 0.8300 - val_loss: 0.6915 - val_accuracy: 0.5221\n",
      "Epoch 3/10\n",
      "4/4 [==============================] - 5s 1s/step - loss: 0.6323 - accuracy: 0.9800 - val_loss: 0.6894 - val_accuracy: 0.5563\n",
      "Epoch 4/10\n",
      "4/4 [==============================] - 4s 1s/step - loss: 0.5768 - accuracy: 1.0000 - val_loss: 0.6914 - val_accuracy: 0.5035\n",
      "Epoch 5/10\n",
      "4/4 [==============================] - 5s 1s/step - loss: 0.4354 - accuracy: 0.9600 - val_loss: 0.6660 - val_accuracy: 0.6156\n",
      "Epoch 6/10\n",
      "4/4 [==============================] - 4s 1s/step - loss: 0.2401 - accuracy: 1.0000 - val_loss: 0.9987 - val_accuracy: 0.5124\n",
      "Epoch 7/10\n",
      "4/4 [==============================] - 4s 1s/step - loss: 0.1777 - accuracy: 0.9600 - val_loss: 0.6219 - val_accuracy: 0.6564\n",
      "Epoch 8/10\n",
      "4/4 [==============================] - 4s 1s/step - loss: 0.0778 - accuracy: 1.0000 - val_loss: 0.6577 - val_accuracy: 0.6550\n",
      "Epoch 9/10\n",
      "4/4 [==============================] - 4s 1s/step - loss: 0.0464 - accuracy: 1.0000 - val_loss: 0.7179 - val_accuracy: 0.6549\n",
      "Epoch 10/10\n",
      "4/4 [==============================] - 4s 1s/step - loss: 0.0336 - accuracy: 1.0000 - val_loss: 0.7826 - val_accuracy: 0.6459\n",
      "782/782 [==============================] - 13s 14ms/step - loss: 0.6309 - accuracy: 0.6503\n",
      "Test acc: 0.650\n"
     ]
    }
   ],
   "source": [
    "inputs = keras.Input(shape=(None,), dtype=\"int64\")\n",
    "embedded = layers.Embedding(\n",
    "    input_dim=max_tokens, output_dim=256, mask_zero=True)(inputs)\n",
    "x = layers.Bidirectional(layers.LSTM(32))(embedded)\n",
    "x = layers.Dropout(0.5)(x)\n",
    "outputs = layers.Dense(1, activation=\"sigmoid\")(x)\n",
    "model = keras.Model(inputs, outputs)\n",
    "model.compile(optimizer=\"rmsprop\",\n",
    "              loss=\"binary_crossentropy\",\n",
    "              metrics=[\"accuracy\"])\n",
    "model.summary()\n",
    "\n",
    "callbacks = [\n",
    "    keras.callbacks.ModelCheckpoint(\"embeddings_bidir_gru_with_masking.keras\",\n",
    "                                    save_best_only=True)\n",
    "]\n",
    "model.fit(int_train_ds, validation_data=int_val_ds, epochs=10, callbacks=callbacks)\n",
    "model = keras.models.load_model(\"embeddings_bidir_gru_with_masking.keras\")\n",
    "print(f\"Test acc: {model.evaluate(int_test_ds)[1]:.3f}\")"
   ]
  },
  {
   "cell_type": "markdown",
   "metadata": {
    "colab_type": "text"
   },
   "source": [
    "#### Using pretrained word embeddings"
   ]
  },
  {
   "cell_type": "code",
   "execution_count": 27,
   "metadata": {},
   "outputs": [
    {
     "name": "stdout",
     "output_type": "stream",
     "text": [
      "Collecting unzip\n",
      "  Downloading unzip-1.0.0.tar.gz (704 bytes)\n",
      "  Preparing metadata (setup.py): started\n",
      "  Preparing metadata (setup.py): finished with status 'done'\n",
      "Building wheels for collected packages: unzip\n",
      "  Building wheel for unzip (setup.py): started\n",
      "  Building wheel for unzip (setup.py): finished with status 'done'\n",
      "  Created wheel for unzip: filename=unzip-1.0.0-py3-none-any.whl size=1289 sha256=443001d0d0366331a73971511f3341b8100a5c3841a33de83517662382ef8379\n",
      "  Stored in directory: c:\\users\\ola\\appdata\\local\\pip\\cache\\wheels\\80\\dc\\7a\\f8af45bc239e7933509183f038ea8d46f3610aab82b35369f4\n",
      "Successfully built unzip\n",
      "Installing collected packages: unzip\n",
      "Successfully installed unzip-1.0.0\n"
     ]
    }
   ],
   "source": [
    "!pip install unzip"
   ]
  },
  {
   "cell_type": "code",
   "execution_count": 33,
   "metadata": {
    "colab_type": "code"
   },
   "outputs": [
    {
     "name": "stderr",
     "output_type": "stream",
     "text": [
      "'wget' is not recognized as an internal or external command,\n",
      "operable program or batch file.\n",
      "'unzip' is not recognized as an internal or external command,\n",
      "operable program or batch file.\n"
     ]
    }
   ],
   "source": [
    "import wget\n",
    "import unzip\n",
    "!wget http://nlp.stanford.edu/data/glove.6B.zip\n",
    "!unzip -q glove.6B.zip"
   ]
  },
  {
   "cell_type": "markdown",
   "metadata": {
    "colab_type": "text"
   },
   "source": [
    "**Parsing the GloVe word-embeddings file**"
   ]
  },
  {
   "cell_type": "code",
   "execution_count": 13,
   "metadata": {
    "colab_type": "code"
   },
   "outputs": [
    {
     "name": "stdout",
     "output_type": "stream",
     "text": [
      "Found 400000 word vectors.\n"
     ]
    }
   ],
   "source": [
    "import numpy as np\n",
    "path_to_glove_file = \"glove.6B/glove.6B.100d.txt\"\n",
    "\n",
    "embeddings_index = {}\n",
    "with open(path_to_glove_file) as f:\n",
    "    for line in f:\n",
    "        word, coefs = line.split(maxsplit=1)\n",
    "        coefs = np.fromstring(coefs, \"f\", sep=\" \")\n",
    "        embeddings_index[word] = coefs\n",
    "\n",
    "print(f\"Found {len(embeddings_index)} word vectors.\")"
   ]
  },
  {
   "cell_type": "markdown",
   "metadata": {
    "colab_type": "text"
   },
   "source": [
    "**Preparing the GloVe word-embeddings matrix**"
   ]
  },
  {
   "cell_type": "code",
   "execution_count": 14,
   "metadata": {
    "colab_type": "code"
   },
   "outputs": [],
   "source": [
    "embedding_dim = 100\n",
    "\n",
    "vocabulary = text_vectorization.get_vocabulary()\n",
    "word_index = dict(zip(vocabulary, range(len(vocabulary))))\n",
    "\n",
    "embedding_matrix = np.zeros((max_tokens, embedding_dim))\n",
    "for word, i in word_index.items():\n",
    "    if i < max_tokens:\n",
    "        embedding_vector = embeddings_index.get(word)\n",
    "    if embedding_vector is not None:\n",
    "        embedding_matrix[i] = embedding_vector"
   ]
  },
  {
   "cell_type": "code",
   "execution_count": 15,
   "metadata": {
    "colab_type": "code"
   },
   "outputs": [],
   "source": [
    "embedding_layer = layers.Embedding(\n",
    "    max_tokens,\n",
    "    embedding_dim,\n",
    "    embeddings_initializer=keras.initializers.Constant(embedding_matrix),\n",
    "    trainable=False,\n",
    "    mask_zero=True,\n",
    ")"
   ]
  },
  {
   "cell_type": "markdown",
   "metadata": {
    "colab_type": "text"
   },
   "source": [
    "**Model that uses a pretrained Embedding layer**"
   ]
  },
  {
   "cell_type": "code",
   "execution_count": 16,
   "metadata": {
    "colab_type": "code"
   },
   "outputs": [
    {
     "name": "stdout",
     "output_type": "stream",
     "text": [
      "Model: \"model_3\"\n",
      "_________________________________________________________________\n",
      " Layer (type)                Output Shape              Param #   \n",
      "=================================================================\n",
      " input_4 (InputLayer)        [(None, None)]            0         \n",
      "                                                                 \n",
      " embedding_3 (Embedding)     (None, None, 100)         1000000   \n",
      "                                                                 \n",
      " bidirectional_3 (Bidirectio  (None, 64)               34048     \n",
      " nal)                                                            \n",
      "                                                                 \n",
      " dropout_3 (Dropout)         (None, 64)                0         \n",
      "                                                                 \n",
      " dense_3 (Dense)             (None, 1)                 65        \n",
      "                                                                 \n",
      "=================================================================\n",
      "Total params: 1,034,113\n",
      "Trainable params: 34,113\n",
      "Non-trainable params: 1,000,000\n",
      "_________________________________________________________________\n",
      "Epoch 1/10\n",
      "4/4 [==============================] - 12s 2s/step - loss: 0.7622 - accuracy: 0.4500 - val_loss: 0.7037 - val_accuracy: 0.5037\n",
      "Epoch 2/10\n",
      "4/4 [==============================] - 5s 1s/step - loss: 0.6892 - accuracy: 0.5600 - val_loss: 0.6919 - val_accuracy: 0.5218\n",
      "Epoch 3/10\n",
      "4/4 [==============================] - 4s 1s/step - loss: 0.7026 - accuracy: 0.5400 - val_loss: 0.7033 - val_accuracy: 0.5040\n",
      "Epoch 4/10\n",
      "4/4 [==============================] - 4s 1s/step - loss: 0.6559 - accuracy: 0.5800 - val_loss: 0.6890 - val_accuracy: 0.5368\n",
      "Epoch 5/10\n",
      "4/4 [==============================] - 4s 1s/step - loss: 0.6482 - accuracy: 0.6300 - val_loss: 0.6886 - val_accuracy: 0.5361\n",
      "Epoch 6/10\n",
      "4/4 [==============================] - 4s 1s/step - loss: 0.6519 - accuracy: 0.5500 - val_loss: 0.7096 - val_accuracy: 0.5048\n",
      "Epoch 7/10\n",
      "4/4 [==============================] - 4s 1s/step - loss: 0.6663 - accuracy: 0.6600 - val_loss: 0.6942 - val_accuracy: 0.5246\n",
      "Epoch 8/10\n",
      "4/4 [==============================] - 4s 1s/step - loss: 0.6475 - accuracy: 0.6300 - val_loss: 0.6993 - val_accuracy: 0.5203\n",
      "Epoch 9/10\n",
      "4/4 [==============================] - 4s 1s/step - loss: 0.5953 - accuracy: 0.7100 - val_loss: 0.6964 - val_accuracy: 0.5290\n",
      "Epoch 10/10\n",
      "4/4 [==============================] - 5s 2s/step - loss: 0.5961 - accuracy: 0.7300 - val_loss: 0.6881 - val_accuracy: 0.5439\n",
      "782/782 [==============================] - 14s 15ms/step - loss: 0.6887 - accuracy: 0.5393\n",
      "Test acc: 0.539\n"
     ]
    }
   ],
   "source": [
    "inputs = keras.Input(shape=(None,), dtype=\"int64\")\n",
    "embedded = embedding_layer(inputs)\n",
    "x = layers.Bidirectional(layers.LSTM(32))(embedded)\n",
    "x = layers.Dropout(0.5)(x)\n",
    "outputs = layers.Dense(1, activation=\"sigmoid\")(x)\n",
    "model = keras.Model(inputs, outputs)\n",
    "model.compile(optimizer=\"rmsprop\",\n",
    "              loss=\"binary_crossentropy\",\n",
    "              metrics=[\"accuracy\"])\n",
    "model.summary()\n",
    "\n",
    "callbacks = [\n",
    "    keras.callbacks.ModelCheckpoint(\"glove_embeddings_sequence_model.keras\",\n",
    "                                    save_best_only=True)\n",
    "]\n",
    "model.fit(int_train_ds, validation_data=int_val_ds, epochs=10, callbacks=callbacks)\n",
    "model = keras.models.load_model(\"glove_embeddings_sequence_model.keras\")\n",
    "print(f\"Test acc: {model.evaluate(int_test_ds)[1]:.3f}\")"
   ]
  }
 ],
 "metadata": {
  "colab": {
   "collapsed_sections": [],
   "name": "chapter11_part02_sequence-models.i",
   "private_outputs": false,
   "provenance": [],
   "toc_visible": true
  },
  "kernelspec": {
   "display_name": "env-tensorflow10",
   "language": "python",
   "name": "python3"
  },
  "language_info": {
   "codemirror_mode": {
    "name": "ipython",
    "version": 3
   },
   "file_extension": ".py",
   "mimetype": "text/x-python",
   "name": "python",
   "nbconvert_exporter": "python",
   "pygments_lexer": "ipython3",
   "version": "3.10.15"
  }
 },
 "nbformat": 4,
 "nbformat_minor": 0
}
